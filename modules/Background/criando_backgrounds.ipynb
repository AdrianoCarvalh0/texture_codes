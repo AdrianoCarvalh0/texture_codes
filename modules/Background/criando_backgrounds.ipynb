{
 "cells": [
  {
   "cell_type": "code",
   "execution_count": null,
   "metadata": {},
   "outputs": [],
   "source": [
    "import tracemalloc, time, os\n",
    "import numpy as np\n",
    "from PIL import Image\n",
    "import matplotlib.pyplot as plt\n",
    "from pathlib import Path\n",
    "\n",
    "import background_generation as backgen\n",
    "\n",
    "# windows\n",
    "root_dir = Path(r\"C:\\Users\\adria\\Documents\\Mestrado\\texture_codes\\modules\")\n",
    "\n",
    "# linux\n",
    "#root_dir = f\"/home/adriano/projeto_mestrado/modules\"\n",
    "\n",
    "img_dir = root_dir + '/Imagens/vessel_data/images'\n",
    "lab_dir = root_dir + '/Imagens/vessel_data/labels_20x'\n",
    "\n",
    "#Varrendo o diretório\n",
    "filenames = []\n",
    "for filename in os.listdir(img_dir):     \n",
    "    filenames.append(filename.split('.')[0])\n",
    "\n",
    "# ordenação do array\n",
    "filenames.sort()\n",
    "\n",
    "# quantidade de backgrounds desejados\n",
    "qtde = 100\n",
    "\n",
    "for i in range(qtde):\n",
    "    \n",
    "    img = np.array(Image.open(img_dir + f'/{filenames[i]}.tiff'))\n",
    "    label = np.array(Image.open(lab_dir + f'/{filenames[i]}.png'))\n",
    "\n",
    "    # Mensurando a quantidade de memória utilizada na criação do background artifcial\n",
    "    tracemalloc.start()\n",
    "\n",
    "    # Mensuração do tempo gasto\n",
    "    start_time = time.time()\n",
    "\n",
    "    # chamando a função que cria os backgrounds\n",
    "    generated_background = backgen.estimate_background(img, label)\n",
    "    nome_background = f'{root_dir}/Background/Mapas_gerados_artificialmente/{filenames[i]}.tiff'\n",
    "    \n",
    "    # transformando em Image pillow\n",
    "    back = Image.fromarray(generated_background)\n",
    "\n",
    "    # salvando com o pillow\n",
    "    back.save(nome_background)\n",
    "    \n",
    "    end_time = time.time()\n",
    "    _, peak_memory = tracemalloc.get_traced_memory()\n",
    "    execution_time = end_time - start_time"
   ]
  }
 ],
 "metadata": {
  "kernelspec": {
   "display_name": "venv",
   "language": "python",
   "name": "python3"
  },
  "language_info": {
   "codemirror_mode": {
    "name": "ipython",
    "version": 3
   },
   "file_extension": ".py",
   "mimetype": "text/x-python",
   "name": "python",
   "nbconvert_exporter": "python",
   "pygments_lexer": "ipython3",
   "version": "3.8.10"
  },
  "orig_nbformat": 4
 },
 "nbformat": 4,
 "nbformat_minor": 2
}

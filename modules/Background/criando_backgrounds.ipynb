{
 "cells": [
  {
   "cell_type": "code",
   "execution_count": 4,
   "metadata": {},
   "outputs": [
    {
     "ename": "KeyboardInterrupt",
     "evalue": "",
     "output_type": "error",
     "traceback": [
      "\u001b[0;31m---------------------------------------------------------------------------\u001b[0m",
      "\u001b[0;31mKeyboardInterrupt\u001b[0m                         Traceback (most recent call last)",
      "Cell \u001b[0;32mIn[4], line 33\u001b[0m\n\u001b[1;32m     30\u001b[0m tracemalloc\u001b[39m.\u001b[39mstart()\n\u001b[1;32m     31\u001b[0m start_time \u001b[39m=\u001b[39m time\u001b[39m.\u001b[39mtime()\n\u001b[0;32m---> 33\u001b[0m generated_background \u001b[39m=\u001b[39m backgen\u001b[39m.\u001b[39;49mestimate_background(img, label)\n\u001b[1;32m     34\u001b[0m nome_background \u001b[39m=\u001b[39m \u001b[39mf\u001b[39m\u001b[39m'\u001b[39m\u001b[39m{\u001b[39;00mroot_dir\u001b[39m}\u001b[39;00m\u001b[39m/Background/Mapas_gerados_artificialmente/\u001b[39m\u001b[39m{\u001b[39;00mfilenames[i]\u001b[39m}\u001b[39;00m\u001b[39m.tiff\u001b[39m\u001b[39m'\u001b[39m\n\u001b[1;32m     35\u001b[0m \u001b[39m#nome_background = f'{root_dir}/Background/Mapas_gerados_artificialmente/{imag}.tiff'\u001b[39;00m\n\u001b[1;32m     36\u001b[0m \u001b[39m#plt.imsave(arquivo_min0max60, vessel_map.mapped_values, cmap='gray', vmin=0, vmax=60) \u001b[39;00m\n",
      "File \u001b[0;32m~/projeto_mestrado/modules/Background/background_generation.py:201\u001b[0m, in \u001b[0;36mestimate_background\u001b[0;34m(image, label, window_size)\u001b[0m\n\u001b[1;32m    198\u001b[0m         background_patches\u001b[39m.\u001b[39mappend(sl)\n\u001b[1;32m    199\u001b[0m         background_centers\u001b[39m.\u001b[39mappend(center)\n\u001b[0;32m--> 201\u001b[0m foreground_dm \u001b[39m=\u001b[39m distance_matrix(foreground_centers, background_centers)\n\u001b[1;32m    203\u001b[0m \u001b[39mfor\u001b[39;00m fp \u001b[39min\u001b[39;00m foreground_patches:\n\u001b[1;32m    204\u001b[0m     only_foreground[fp[\u001b[39m0\u001b[39m], fp[\u001b[39m1\u001b[39m]] \u001b[39m=\u001b[39m image[fp[\u001b[39m0\u001b[39m], fp[\u001b[39m1\u001b[39m]]\n",
      "File \u001b[0;32m/usr/local/lib/python3.8/dist-packages/scipy/spatial/_kdtree.py:919\u001b[0m, in \u001b[0;36mdistance_matrix\u001b[0;34m(x, y, p, threshold)\u001b[0m\n\u001b[1;32m    917\u001b[0m \u001b[39melse\u001b[39;00m:\n\u001b[1;32m    918\u001b[0m     \u001b[39mfor\u001b[39;00m j \u001b[39min\u001b[39;00m \u001b[39mrange\u001b[39m(n):\n\u001b[0;32m--> 919\u001b[0m         result[:,j] \u001b[39m=\u001b[39m minkowski_distance(x,y[j],p)\n\u001b[1;32m    920\u001b[0m \u001b[39mreturn\u001b[39;00m result\n",
      "File \u001b[0;32m/usr/local/lib/python3.8/dist-packages/scipy/spatial/_kdtree.py:95\u001b[0m, in \u001b[0;36mminkowski_distance\u001b[0;34m(x, y, p)\u001b[0m\n\u001b[1;32m     93\u001b[0m     \u001b[39mreturn\u001b[39;00m minkowski_distance_p(x, y, p)\n\u001b[1;32m     94\u001b[0m \u001b[39melse\u001b[39;00m:\n\u001b[0;32m---> 95\u001b[0m     \u001b[39mreturn\u001b[39;00m minkowski_distance_p(x, y, p)\u001b[39m*\u001b[39m\u001b[39m*\u001b[39m(\u001b[39m1.\u001b[39m\u001b[39m/\u001b[39mp)\n",
      "File \u001b[0;32m/usr/local/lib/python3.8/dist-packages/scipy/spatial/_kdtree.py:60\u001b[0m, in \u001b[0;36mminkowski_distance_p\u001b[0;34m(x, y, p)\u001b[0m\n\u001b[1;32m     58\u001b[0m     \u001b[39mreturn\u001b[39;00m np\u001b[39m.\u001b[39msum(np\u001b[39m.\u001b[39mabs(y\u001b[39m-\u001b[39mx), axis\u001b[39m=\u001b[39m\u001b[39m-\u001b[39m\u001b[39m1\u001b[39m)\n\u001b[1;32m     59\u001b[0m \u001b[39melse\u001b[39;00m:\n\u001b[0;32m---> 60\u001b[0m     \u001b[39mreturn\u001b[39;00m np\u001b[39m.\u001b[39;49msum(np\u001b[39m.\u001b[39;49mabs(y\u001b[39m-\u001b[39;49mx)\u001b[39m*\u001b[39;49m\u001b[39m*\u001b[39;49mp, axis\u001b[39m=\u001b[39;49m\u001b[39m-\u001b[39;49m\u001b[39m1\u001b[39;49m)\n",
      "File \u001b[0;32m<__array_function__ internals>:200\u001b[0m, in \u001b[0;36msum\u001b[0;34m(*args, **kwargs)\u001b[0m\n",
      "File \u001b[0;32m/usr/local/lib/python3.8/dist-packages/numpy/core/fromnumeric.py:2324\u001b[0m, in \u001b[0;36msum\u001b[0;34m(a, axis, dtype, out, keepdims, initial, where)\u001b[0m\n\u001b[1;32m   2321\u001b[0m         \u001b[39mreturn\u001b[39;00m out\n\u001b[1;32m   2322\u001b[0m     \u001b[39mreturn\u001b[39;00m res\n\u001b[0;32m-> 2324\u001b[0m \u001b[39mreturn\u001b[39;00m _wrapreduction(a, np\u001b[39m.\u001b[39;49madd, \u001b[39m'\u001b[39;49m\u001b[39msum\u001b[39;49m\u001b[39m'\u001b[39;49m, axis, dtype, out, keepdims\u001b[39m=\u001b[39;49mkeepdims,\n\u001b[1;32m   2325\u001b[0m                       initial\u001b[39m=\u001b[39;49minitial, where\u001b[39m=\u001b[39;49mwhere)\n",
      "File \u001b[0;32m/usr/local/lib/python3.8/dist-packages/numpy/core/fromnumeric.py:86\u001b[0m, in \u001b[0;36m_wrapreduction\u001b[0;34m(obj, ufunc, method, axis, dtype, out, **kwargs)\u001b[0m\n\u001b[1;32m     83\u001b[0m         \u001b[39melse\u001b[39;00m:\n\u001b[1;32m     84\u001b[0m             \u001b[39mreturn\u001b[39;00m reduction(axis\u001b[39m=\u001b[39maxis, out\u001b[39m=\u001b[39mout, \u001b[39m*\u001b[39m\u001b[39m*\u001b[39mpasskwargs)\n\u001b[0;32m---> 86\u001b[0m \u001b[39mreturn\u001b[39;00m ufunc\u001b[39m.\u001b[39;49mreduce(obj, axis, dtype, out, \u001b[39m*\u001b[39;49m\u001b[39m*\u001b[39;49mpasskwargs)\n",
      "\u001b[0;31mKeyboardInterrupt\u001b[0m: "
     ]
    }
   ],
   "source": [
    "import sys, pickle, os\n",
    "import tracemalloc, time\n",
    "import numpy as np\n",
    "from PIL import Image\n",
    "import matplotlib.pyplot as plt\n",
    "\n",
    "import background_generation as backgen\n",
    "\n",
    "root_dir =\"/home/adriano/projeto_mestrado/modules\"\n",
    "\n",
    "img_dir = root_dir + '/Imagens/vessel_data/images'\n",
    "lab_dir = root_dir + '/Imagens/vessel_data/labels_20x'\n",
    "\n",
    "#imag = \"Experiment #1 (adults set #1)_20x_batch1 - Superfical layers@40-Image 2-20X\"\n",
    "\n",
    "#Varrendo o diretório\n",
    "filenames = []\n",
    "for filename in os.listdir(img_dir):     \n",
    "    filenames.append(filename.split('.')[0])\n",
    "#filenames = filenames[:20]\n",
    "filenames.sort()\n",
    "for i in range(100):\n",
    "#for i in range(1):\n",
    "    #img = np.array(Image.open(img_dir + f'/{imag}.tiff'))\n",
    "    img = np.array(Image.open(img_dir + f'/{filenames[i]}.tiff'))\n",
    "\n",
    "    #label = np.array(Image.open(lab_dir + f'/{imag}.png'))\n",
    "    \n",
    "    label = np.array(Image.open(lab_dir + f'/{filenames[i]}.png'))\n",
    "    #Criando o Background\n",
    "    tracemalloc.start()\n",
    "    start_time = time.time()\n",
    "        \n",
    "    generated_background = backgen.estimate_background(img, label)\n",
    "    nome_background = f'{root_dir}/Background/Mapas_gerados_artificialmente/{filenames[i]}.tiff'\n",
    "    #nome_background = f'{root_dir}/Background/Mapas_gerados_artificialmente/{imag}.tiff'\n",
    "    #plt.imsave(arquivo_min0max60, vessel_map.mapped_values, cmap='gray', vmin=0, vmax=60) \n",
    "    back = Image.fromarray(generated_background)\n",
    "    back.save(nome_background)\n",
    "    #generated_background.save(nome_background) \n",
    "\n",
    "    end_time = time.time()\n",
    "    _, peak_memory = tracemalloc.get_traced_memory()\n",
    "    execution_time = end_time - start_time"
   ]
  }
 ],
 "metadata": {
  "kernelspec": {
   "display_name": "venv",
   "language": "python",
   "name": "python3"
  },
  "language_info": {
   "codemirror_mode": {
    "name": "ipython",
    "version": 3
   },
   "file_extension": ".py",
   "mimetype": "text/x-python",
   "name": "python",
   "nbconvert_exporter": "python",
   "pygments_lexer": "ipython3",
   "version": "3.8.10"
  },
  "orig_nbformat": 4
 },
 "nbformat": 4,
 "nbformat_minor": 2
}

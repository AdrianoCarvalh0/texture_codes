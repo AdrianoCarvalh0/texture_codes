{
 "cells": [
  {
   "cell_type": "code",
   "execution_count": null,
   "metadata": {},
   "outputs": [],
   "source": [
    "import pickle\n",
    "import numpy as np\n",
    "from PIL import Image\n",
    "import skimage as ski\n",
    "import sys\n",
    "import geopandas as gpd\n",
    "\n",
    "sys.path.insert(0, \"/home/adriano/projeto_mestrado/modules\")\n",
    "\n",
    "from Funcoes_gerais import funcoes\n",
    "\n",
    "import background_generation as backgen\n",
    "\n",
    "root_dir = f\"/home/adriano/projeto_mestrado/modules\"\n",
    "\n",
    "img_dir = f'{root_dir}/Imagens/vessel_data/images/'\n",
    "lab_dir = f'{root_dir}/Imagens/vessel_data/labels_20x/'\n",
    "pickle_dir = f'{root_dir}/Vessel_Models_pickle'\n",
    "\n",
    "img_especifica = 'Experiment #1 (adults set #1)_20x_batch1 - Superfical layers@40-Image 3-20X'\n",
    "array_pickles = funcoes.ler_diretorios(pickle_dir)\n",
    "vetor_informacoes = []\n",
    "\n",
    "tracados = f'{root_dir}/Artificial_Lines/array_arquivos.json'\n",
    "array_medial_path = backgen.retorna_paths(tracados)  \n",
    "\n",
    "for i in range(len(array_medial_path)):  \n",
    "  n_random = np.random.randint(0, len(array_pickles), size=1)\n",
    "  print(n_random[0])\n",
    "  path = (pickle_dir + f'/{array_pickles[n_random[0]]}')\n",
    "  print(path)\n",
    "  arquivo_pickle = pickle.load(open(path, 'rb'))\n",
    "  print(arquivo_pickle)\n",
    "  vessel_map = arquivo_pickle['vessel_model'].vessel_map \n",
    "  mapa_original = vessel_map.mapped_values,\n",
    "  imagem_binaria_original = vessel_map.mapped_mask_values\n",
    "  imagem_binaria_sem_artefatos_laterais = backgen.retornar_imagem_binaria_sem_artefatos(vessel_map, imagem_binaria_original)\n",
    "  imagem_binaria_sem_artefatos = backgen.fill_holes(imagem_binaria_sem_artefatos_laterais)\n",
    "  rows, cols = mapa_original[0].shape\n",
    "  distancia = (rows/2)\n",
    "  caminhos_transladados_interpolado = backgen.retorna_caminhos_transladados(array_medial_path[i], 2) # type: ignore\n",
    "  maior_valor_interpolado = np.max(caminhos_transladados_interpolado[0])\n",
    "  mapa_expandido_original = backgen.expandir_mapas_do_tamanho_do_tracado(mapa_original[0],maior_valor_interpolado)\n",
    "  mapa_expandido_bin = backgen.expandir_mapas_do_tamanho_do_tracado(imagem_binaria_sem_artefatos,maior_valor_interpolado)  \n",
    " \n",
    "  dict = {\n",
    "      \"path\": path,\n",
    "      \"arquivo_pickle\": arquivo_pickle,\n",
    "      \"vessel_map\": vessel_map,\n",
    "      \"mapa_original\": mapa_original,\n",
    "      \"imagem_binaria_original\": imagem_binaria_original,\n",
    "      \"imagem_binaria_sem_artefatos_laterais\": imagem_binaria_sem_artefatos_laterais,  \n",
    "      \"imagem_binaria_sem_artefatos\": imagem_binaria_sem_artefatos,\n",
    "      \"caminhos_transladados_interpolado\": caminhos_transladados_interpolado,\n",
    "      \"maior_valor_interpolado\": maior_valor_interpolado,\n",
    "      \"mapa_expandido_original\": mapa_expandido_original,\n",
    "      \"mapa_expandido_bin\": mapa_expandido_bin,\n",
    "      \"rows\": rows,\n",
    "      \"cols\": cols,\n",
    "      \"distancia\": distancia\n",
    "    }\n",
    "  vetor_informacoes.append(dict)\n",
    "\n",
    "\n",
    "for i in range(len(array_medial_path)):    \n",
    "\n",
    "    caminhos_transladados_interpolado = vetor_informacoes[i]['caminhos_transladados_interpolado'] # type: ignore\n",
    "    maior_valor_interpolado = vetor_informacoes[i]['maior_valor_interpolado'] # type: ignore\n",
    "    distancia = vetor_informacoes[i]['distancia'] # type: ignore\n",
    "    mapa_original = vetor_informacoes[i]['mapa_original'] # type: ignore\n",
    "    imagem_binaria_sem_artefatos = vetor_informacoes[i]['imagem_binaria_sem_artefatos'] # type: ignore\n",
    "    mapa_expandido_original = vetor_informacoes[i]['mapa_expandido_original'] # type: ignore\n",
    "    mapa_expandido_bin = vetor_informacoes[i]['mapa_expandido_bin'] # type: ignore      \n",
    "\n",
    "    print(distancia)\n",
    "    if distancia < 30:    \n",
    "      linha_central,linha_offset_esquerda,linha_offset_direita, maior_tamanho = backgen.retorna_linhas_offset_posicao_tamanho(caminhos_transladados_interpolado[0],distancia)\n",
    "      gp4 = gpd.GeoSeries([linha_offset_esquerda, linha_central, linha_offset_direita])\n",
    "      gp4.plot(cmap=\"tab10\")"
   ]
  },
  {
   "cell_type": "code",
   "execution_count": null,
   "metadata": {},
   "outputs": [],
   "source": [
    "from matplotlib import pyplot as plt\n",
    "\n",
    "\n",
    "mapa_original = vetor_informacoes[0]['mapa_original'] # type: ignore\n",
    "mapa_expandido_original = vetor_informacoes[0]['mapa_expandido_original'] # type: ignore\n",
    "vessel_map = vetor_informacoes[0]['vessel_map'] # type: ignore\n",
    "caminhos_transladados_interpolado = vetor_informacoes[0]['caminhos_transladados_interpolado'] # type: ignore\n",
    "mapa_expandido_bin = vetor_informacoes[0]['mapa_expandido_bin'] # type: ignore\n",
    "\n",
    "\n",
    "dst_array_np_mapa_original = backgen.retorna_dst_array_np_mapa_original(linha_central,linha_offset_esquerda,linha_offset_direita, maior_tamanho,mapa_original[0])\n",
    "\n",
    "img_proper, img_out, new_src, new_dst, tform_out, translation, new_origin = backgen.rotacionando_mapa_expandido(mapa_expandido_original,dst_array_np_mapa_original,maior_tamanho)\n",
    "\n",
    "mask_map = backgen.criar_mascara_binaria_mapa(new_dst,img_out)\n",
    "\n",
    "plt.figure(figsize=[10, 8])\n",
    "plt.title(\"mask_map\")\n",
    "plt.imshow(mask_map, 'gray', vmin=0, vmax=1)\n",
    "plt.plot()\n",
    "\n",
    "\n",
    "mask_vaso = backgen.criar_mascara_binaria_vaso(vessel_map,new_origin,caminhos_transladados_interpolado[0],img_out)\n",
    "\n",
    "plt.figure(figsize=[10, 8])\n",
    "plt.title(\"mask_vaso\")\n",
    "plt.imshow(mask_vaso, 'gray', vmin=0, vmax=1)\n",
    "plt.plot()\n",
    "\n",
    "vaso_binario_rotacionado = backgen.criar_vaso_binario_expandido(mapa_expandido_bin,dst_array_np_mapa_original,maior_tamanho)\n",
    "\n",
    "mapa_sem_artefatos = backgen.retirar_artefatos(img_out,mask_map)\n",
    "#Ver aqui\n",
    "#vaso_sem_artefatos = backgen.retirar_artefatos(img_out_bin,mask_vaso)\n",
    "\n",
    "plt.figure(figsize=[10, 8])\n",
    "plt.title(\"vaso_sem_artefatos\")\n",
    "plt.imshow(vaso_sem_artefatos, 'gray', vmin=0, vmax=1)\n",
    "plt.plot()\n",
    "\n",
    "plt.figure(figsize=[10, 8])\n",
    "plt.title(\"mapa_sem_artefatos\")\n",
    "plt.imshow(mapa_sem_artefatos, 'gray', vmin=0, vmax=60)\n",
    "plt.plot()\n",
    "\n",
    "back_artif = np.array(Image.open(root_dir + f'/Background/Mapas_gerados_artificialmente/{img_especifica}.tiff'))\n",
    "\n",
    "point = (50,50)\n",
    "limiar = backgen.encontrar_pixel_mais_frequente(mapa_original[0])\n",
    "background = back_artif\n",
    "img_merged = backgen.inserindo_vaso_fundo2(mapa_sem_artefatos,vaso_sem_artefatos,background,point,limiar)\n",
    "\n",
    "plt.figure(figsize=[20, 8])\n",
    "plt.subplot(1,2,1)\n",
    "plt.title(\"fundo com vaso\")\n",
    "plt.imshow(img_merged, 'gray', vmin=0, vmax=60)\n",
    "\n",
    "plt.subplot(1,2,2)\n",
    "plt.title(\"mapa_sem_artefatos\")\n",
    "plt.imshow(mapa_sem_artefatos, 'gray', vmin=0, vmax=60)\n",
    "\n"
   ]
  },
  {
   "cell_type": "code",
   "execution_count": null,
   "metadata": {},
   "outputs": [],
   "source": [
    "mapa_original = vetor_informacoes[0]['mapa_original'] # type: ignore\n",
    "mapa_expandido_original = vetor_informacoes[0]['mapa_expandido_original'] # type: ignore\n",
    "vessel_map = vetor_informacoes[0]['vessel_map'] # type: ignore\n",
    "caminhos_transladados_interpolado = vetor_informacoes[0]['caminhos_transladados_interpolado'] # type: ignore\n",
    "\n",
    "dst_array_np_mapa_original = backgen.retorna_dst_array_np_mapa_original(linha_central,linha_offset_esquerda,linha_offset_direita, maior_tamanho,mapa_original[0])\n",
    "\n",
    "img_proper, img_out, new_src, new_dst, tform_out, translation, new_origin = backgen.rotacionando_mapa_expandido(mapa_expandido_original,dst_array_np_mapa_original,maior_tamanho)\n",
    "\n",
    "backgen.plot(img_proper, img_out, new_src, new_dst, 60)"
   ]
  },
  {
   "cell_type": "code",
   "execution_count": 32,
   "metadata": {},
   "outputs": [
    {
     "name": "stdout",
     "output_type": "stream",
     "text": [
      "7\n"
     ]
    }
   ],
   "source": [
    "print(len(caminhos_transladados_interpolado[0]))"
   ]
  },
  {
   "cell_type": "code",
   "execution_count": 22,
   "metadata": {},
   "outputs": [
    {
     "data": {
      "text/plain": [
       "[]"
      ]
     },
     "execution_count": 22,
     "metadata": {},
     "output_type": "execute_result"
    },
    {
     "data": {
      "image/png": "[encoded data removed]",
      "text/plain": [
       "<Figure size 1000x800 with 1 Axes>"
      ]
     },
     "metadata": {},
     "output_type": "display_data"
    }
   ],
   "source": [
    "mask_map = backgen.criar_mascara_binaria_mapa(new_dst,img_out)\n",
    "\n",
    "plt.figure(figsize=[10, 8])\n",
    "plt.title(\"mask_map\")\n",
    "plt.imshow(mask_map, 'gray', vmin=0, vmax=1)\n",
    "plt.plot()\n"
   ]
  },
  {
   "cell_type": "code",
   "execution_count": 34,
   "metadata": {},
   "outputs": [
    {
     "data": {
      "text/plain": [
       "<matplotlib.image.AxesImage at 0x7f43edce3640>"
      ]
     },
     "execution_count": 34,
     "metadata": {},
     "output_type": "execute_result"
    },
    {
     "data": {
      "image/png": "[encoded data removed]",
      "text/plain": [
       "<Figure size 640x480 with 1 Axes>"
      ]
     },
     "metadata": {},
     "output_type": "display_data"
    }
   ],
   "source": [
    "# dst_array_np = backgen.retorna_dst_array_np(linha_central,linha_offset_esquerda,linha_offset_direita, maior_tamanho)\n",
    "\n",
    "# rows, cols = mapa_expandido_original.shape[0], mapa_expandido_original.shape[1]\n",
    "\n",
    "# src_cols = np.linspace(0, cols, maior_tamanho)\n",
    "# src_rows = np.linspace(-1, rows, 3)\n",
    "# src_cols, src_rows = np.meshgrid(src_cols,src_rows)\n",
    "# src = np.dstack([src_cols.flat, src_rows.flat])[0]\n",
    "\n",
    "\n",
    "# img_proper, img_out, new_src, new_dst, tform_out, translation, new_origin = backgen.transform_v2(src, dst_array_np, mapa_expandido_original)\n",
    "# backgen.plot(img_proper, img_out, new_src, new_dst,vmax=60)\n",
    "\n",
    "\n",
    "import skimage as ski\n",
    "\n",
    "\n",
    "linha_minima = int(np.min(np.rint(vessel_map.path2_mapped)))\n",
    "linha_maxima  = int(np.max(np.rint(vessel_map.path1_mapped)))\n",
    "\n",
    "diametro_maximo_vaso = (linha_maxima-linha_minima)/2\n",
    "\n",
    "\n",
    "\n",
    "linha_mask_esquerda,linha_mask_central,linha_mask_direita, max_tam = backgen.retorna_linhas_offset_posicao_tamanho(caminhos_transladados_interpolado[0],diametro_maximo_vaso)\n",
    "\n",
    "dst_mask_np = backgen.retorna_dst_array_np(linha_mask_esquerda,linha_mask_central,linha_mask_direita, max_tam)\n",
    "\n",
    "\n",
    "\n",
    "new_dst -= new_origin\n",
    "\n",
    "tam = len(new_dst)\n",
    "\n",
    "div = tam//3\n",
    "\n",
    "vetor_div =[div,div*2,div*3]\n",
    "\n",
    "parte_direita = new_dst[0:vetor_div[0]]\n",
    "parte_centro = new_dst[vetor_div[0]:vetor_div[1]] \n",
    "parte_esquerda = new_dst[vetor_div[1]:vetor_div[2]] \n",
    "\n",
    "lista_somada = np.concatenate((parte_esquerda, parte_direita[::-1]))\n",
    "polygon = np.array(lista_somada)[:,::-1]\n",
    "mask_vessel = ski.draw.polygon2mask(img_out.shape, polygon) # type: ignore\n",
    "mask_vessel.astype(int)\n",
    "mask_vessel_sq = mask_vessel.squeeze()\n",
    "\n",
    "plt.imshow(mask_vessel, 'gray')"
   ]
  },
  {
   "cell_type": "code",
   "execution_count": 37,
   "metadata": {},
   "outputs": [
    {
     "name": "stdout",
     "output_type": "stream",
     "text": [
      "117\n",
      "72\n"
     ]
    }
   ],
   "source": [
    "print(len(new_dst))\n",
    "print(len(dst_mask_np))"
   ]
  },
  {
   "cell_type": "code",
   "execution_count": 30,
   "metadata": {},
   "outputs": [
    {
     "data": {
      "text/plain": [
       "[]"
      ]
     },
     "execution_count": 30,
     "metadata": {},
     "output_type": "execute_result"
    },
    {
     "data": {
      "image/png": "[encoded data removed]",
      "text/plain": [
       "<Figure size 1000x800 with 1 Axes>"
      ]
     },
     "metadata": {},
     "output_type": "display_data"
    }
   ],
   "source": [
    "\n",
    "mask_vaso = backgen.criar_mascara_binaria_vaso(vessel_map,new_origin,caminhos_transladados_interpolado[0],img_out)\n",
    "\n",
    "plt.figure(figsize=[10, 8])\n",
    "plt.title(\"mask_vaso\")\n",
    "plt.imshow(mask_vaso, 'gray', vmin=0, vmax=1)\n",
    "plt.plot()"
   ]
  },
  {
   "cell_type": "code",
   "execution_count": 25,
   "metadata": {},
   "outputs": [
    {
     "name": "stdout",
     "output_type": "stream",
     "text": [
      "[-12 -14]\n",
      "[[ 7.14607841 37.72357687]\n",
      " [ 8.73258742 34.74615585]\n",
      " [10.31909643 31.76873483]\n",
      " [11.90560544 28.79131381]\n",
      " [13.49211445 25.81389279]\n",
      " [15.07862346 22.83647177]\n",
      " [17.01291647 20.10109222]\n",
      " [19.39850307 17.71550563]\n",
      " [21.78408966 15.32991904]\n",
      " [24.16967625 12.94433245]\n",
      " [26.88847981 11.01237392]\n",
      " [30.14159734 10.12017769]\n",
      " [33.40064897  9.24803712]\n",
      " [36.68492562  8.50809376]\n",
      " [39.98808343  9.1155272 ]\n",
      " [43.25303625  9.96530944]\n",
      " [46.51798907 10.81509168]\n",
      " [49.56143262 12.2377141 ]\n",
      " [52.50698628 13.88263368]\n",
      " [55.45253994 15.52755326]\n",
      " [58.35418632 17.24619691]\n",
      " [61.19764673 19.06190054]\n",
      " [64.04110714 20.87760418]\n",
      " [66.88456755 22.69330781]\n",
      " [12.         40.30997305]\n",
      " [13.40109463 37.68052147]\n",
      " [14.80218927 35.0510699 ]\n",
      " [16.2032839  32.42161833]\n",
      " [17.60437853 29.79216676]\n",
      " [19.00547317 27.16271518]\n",
      " [20.4065678  24.53326361]\n",
      " [22.48597849 22.4062048 ]\n",
      " [24.59276297 20.29942032]\n",
      " [26.69954746 18.19263583]\n",
      " [28.84891616 16.15963669]\n",
      " [31.72708435 15.38942267]\n",
      " [34.60525253 14.61920864]\n",
      " [37.48444247 14.14713418]\n",
      " [40.36782217 14.89760287]\n",
      " [43.25120187 15.64807156]\n",
      " [46.06076871 16.58229577]\n",
      " [48.66207724 18.03497456]\n",
      " [51.26338577 19.48765335]\n",
      " [53.8646943  20.94033214]\n",
      " [56.39108773 22.51833073]\n",
      " [58.90223459 24.12183414]\n",
      " [61.41338144 25.72533756]\n",
      " [63.9245283  27.32884097]\n",
      " [16.85392159 42.89636922]\n",
      " [18.06641444 40.62086895]\n",
      " [19.27890728 38.34536869]\n",
      " [20.49140012 36.06986842]\n",
      " [21.70389297 33.79436815]\n",
      " [22.91638581 31.51886788]\n",
      " [24.12887865 29.24336761]\n",
      " [25.54883403 27.12152385]\n",
      " [27.37202359 25.29833429]\n",
      " [29.19521316 23.47514473]\n",
      " [31.01840272 21.65195516]\n",
      " [33.31949048 20.65681604]\n",
      " [35.81022754 19.99028077]\n",
      " [38.30343138 20.04353523]\n",
      " [40.79867843 20.6929831 ]\n",
      " [43.29392548 21.34243096]\n",
      " [45.54696006 22.59486154]\n",
      " [47.79810564 23.85199478]\n",
      " [50.04925121 25.10912802]\n",
      " [52.2720067  26.41375287]\n",
      " [54.44512729 27.80140818]\n",
      " [56.61824788 29.1890635 ]\n",
      " [58.79136847 30.57671881]\n",
      " [60.96448906 31.96437413]]\n"
     ]
    },
    {
     "data": {
      "image/png": "[encoded data removed]",
      "text/plain": [
       "<Figure size 640x480 with 1 Axes>"
      ]
     },
     "metadata": {},
     "output_type": "display_data"
    }
   ],
   "source": [
    "plt.imshow(mask_vessel_sq, 'gray')\n",
    "\n",
    "print(new_origin)\n",
    "\n",
    "print(dst_mask_np)"
   ]
  },
  {
   "cell_type": "markdown",
   "metadata": {},
   "source": []
  }
 ],
 "metadata": {
  "kernelspec": {
   "display_name": "venv",
   "language": "python",
   "name": "python3"
  },
  "language_info": {
   "codemirror_mode": {
    "name": "ipython",
    "version": 3
   },
   "file_extension": ".py",
   "mimetype": "text/x-python",
   "name": "python",
   "nbconvert_exporter": "python",
   "pygments_lexer": "ipython3",
   "version": "3.8.10"
  },
  "orig_nbformat": 4
 },
 "nbformat": 4,
 "nbformat_minor": 2
}

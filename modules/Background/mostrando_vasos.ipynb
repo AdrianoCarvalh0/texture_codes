{
 "cells": [
  {
   "cell_type": "code",
   "execution_count": 24,
   "metadata": {},
   "outputs": [],
   "source": [
    "import pickle\n",
    "import sys\n",
    "from matplotlib import pyplot as plt\n",
    "import numpy as np\n",
    "from PIL import Image\n",
    "\n",
    "sys.path.insert(0, \"/home/adriano/projeto_mestrado/modules\")\n",
    "\n",
    "from Funcoes_gerais import funcoes\n",
    "\n",
    "import background_generation as backgen\n",
    "\n",
    "root_dir = f\"/home/adriano/projeto_mestrado/modules/\"\n",
    "\n",
    "\n",
    "img_especifica = 'Experiment #1 (adults set #1)_20x_batch1 - Superfical layers@45-Image 3-20X'\n",
    "pickle_dir = f'{root_dir}/Vessel_Models_pickle/'\n",
    "array_pickles = funcoes.ler_diretorios(pickle_dir)\n",
    "\n",
    "for i in range(len(array_pickles)):\n",
    "\n",
    "  path = (pickle_dir + f'/{array_pickles[i]}') \n",
    "  #print(path)\n",
    "  arquivo_pickle = pickle.load(open(path, 'rb'))\n",
    "  #print(array_pickles) \n",
    "  vessel_map = arquivo_pickle['vessel_model'].vessel_map \n",
    "  mapa_original = vessel_map.mapped_values\n",
    "  \n",
    "  path_map = array_pickles[i].replace(\"[\",\"\").replace(\"]\",\"\").replace(\".pickle\",\"\")  \n",
    "\n",
    "  img1 = Image.fromarray(mapa_original.astype(np.uint8))\n",
    "  path2 = f'{root_dir}dataset/maps/{path_map}.tiff'\n",
    "  img = img1.save(path2)"
   ]
  }
 ],
 "metadata": {
  "kernelspec": {
   "display_name": "venv",
   "language": "python",
   "name": "python3"
  },
  "language_info": {
   "codemirror_mode": {
    "name": "ipython",
    "version": 3
   },
   "file_extension": ".py",
   "mimetype": "text/x-python",
   "name": "python",
   "nbconvert_exporter": "python",
   "pygments_lexer": "ipython3",
   "version": "3.8.10"
  },
  "orig_nbformat": 4
 },
 "nbformat": 4,
 "nbformat_minor": 2
}

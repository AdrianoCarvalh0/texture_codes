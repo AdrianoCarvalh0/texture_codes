{
 "cells": [
  {
   "cell_type": "code",
   "execution_count": 18,
   "metadata": {},
   "outputs": [],
   "source": [
    "import numpy as np\n",
    "from matplotlib import pyplot as plt\n",
    "import sys\n",
    "sys.path.insert(0, \"/home/adriano/projeto_mestrado/modules/\")\n",
    "\n",
    "from Funcoes_gerais import funcoes\n",
    "\n",
    "root_dir = f\"/home/adriano/projeto_mestrado/modules\"\n",
    "\n",
    "tracados_bezier = f'{root_dir}/Artificial_Lines/tracados_bezier/'\n",
    "\n",
    "img_especifica = 'Experiment #1 (adults set #1)_20x_batch1 - Superfical layers@40-Image 3-20X'\n",
    "\n",
    "def bezier(points, precision):\n",
    "    ts = np.linspace(0, 1, precision)\n",
    "    B = np.zeros((len(ts), 2), dtype=np.float64)\n",
    "    n = len(points) - 1\n",
    "    for idx, t in enumerate(ts):\n",
    "        for i in range(n+1):\n",
    "            bin_coef = np.math.factorial(n) / (np.math.factorial(i) * np.math.factorial(n-i))\n",
    "            Pin = bin_coef * (1-t)**(n-i) * t**i\n",
    "            B[idx] += Pin * points[i]\n",
    "\n",
    "    return B\n",
    "\n",
    "padding = 50\n",
    "\n",
    "def criando_pontos(tam):\n",
    "    points = []\n",
    "    while len(points)<tam:\n",
    "        p1x = np.random.randint(0,1376-padding)   \n",
    "        p1y = np.random.randint(0,1104-padding)   \n",
    "        p2x = np.random.randint(0,1376-padding) \n",
    "        p2y = np.random.randint(0,1104-padding)  \n",
    "        distancia = np.sqrt((p1x-p2x)**2 + (p1y-p2y)**2)\n",
    "        if distancia > 500:\n",
    "            p1 = np.array((p1x,p1y))\n",
    "            p2 = np.array((p2x,p2y))\n",
    "            p = np.vstack((p1, p2))        \n",
    "            points.append(p)\n",
    "    return points\n",
    "\n",
    "def criar_array_curves(pontos):\n",
    "    array_curves = []\n",
    "    for i in range(len(pontos)):     \n",
    "        ps = pontos[i][0] # ponto inicial   \n",
    "        pe = pontos[i][1] # ponto final \n",
    "        dx = pe[0]-ps[0]\n",
    "        dy = pe[1]-ps[1]\n",
    "        distancia = np.sqrt((pe[0]-ps[0])**2 + (pe[1] - ps[1])**2)\n",
    "        normal_se = np.array((-dy, dx))/distancia #ou (dy, -dx) --> vetor normal à (pe-ps)\n",
    "        max_vd = 500 # distancia máxima em que os pontos de controle serão sorteados (usar entre 0 e 1)\n",
    "        n_points = 6 # numero de pontos de controle entre pe e ps \n",
    "\n",
    "        control_points = []\n",
    "        hds = np.linspace(0.2, 0.8, n_points) # faz com que os pontos de controle sejam equidistantes em relação à (pe-ps)\n",
    "\n",
    "        for j in range(n_points):    \n",
    "            # control_point = (pe-ps) * np.random.uniform(low=0.2, high=0.8)\n",
    "            control_point = ((pe-ps) * hds[j]) # setar as distancias horizontais dessa maneira deixa um aspecto mais natural\n",
    "            control_point += (normal_se * np.random.uniform(low=-1, high=1) * max_vd)\n",
    "            control_points.append(control_point+ps)\n",
    "\n",
    "        control_points.insert(0, ps)\n",
    "        control_points.append(pe)\n",
    "        curve = bezier(control_points, precision=100)\n",
    "        array_curves.append(curve)\n",
    "    return array_curves "
   ]
  },
  {
   "cell_type": "code",
   "execution_count": 33,
   "metadata": {},
   "outputs": [],
   "source": [
    "vetor_curves = []\n",
    "for i in range(25):\n",
    "    pontos = criando_pontos(25)\n",
    "    curve = criar_array_curves(pontos)\n",
    "    vetor_curves.append(curve)\n",
    "    funcoes.gravar_array_arquivo(curve,f'{tracados_bezier}img_savedata_{i}.json')"
   ]
  },
  {
   "cell_type": "code",
   "execution_count": 31,
   "metadata": {},
   "outputs": [
    {
     "ename": "TypeError",
     "evalue": "only size-1 arrays can be converted to Python scalars",
     "output_type": "error",
     "traceback": [
      "\u001b[0;31m---------------------------------------------------------------------------\u001b[0m",
      "\u001b[0;31mTypeError\u001b[0m                                 Traceback (most recent call last)",
      "Cell \u001b[0;32mIn[31], line 7\u001b[0m\n\u001b[1;32m      2\u001b[0m \u001b[39mfrom\u001b[39;00m \u001b[39mgeopandas\u001b[39;00m \u001b[39mimport\u001b[39;00m gpd\n\u001b[1;32m      4\u001b[0m \u001b[39mfor\u001b[39;00m i \u001b[39min\u001b[39;00m \u001b[39mrange\u001b[39m(\u001b[39mlen\u001b[39m(vetor_curves)):    \n\u001b[1;32m      5\u001b[0m     \u001b[39m#caminhos_transladados_interpolado = backgen.retorna_caminhos_transladados(array_curves[i], 2) # type: ignore\u001b[39;00m\n\u001b[0;32m----> 7\u001b[0m     linha_central,linha_offset_esquerda,linha_offset_direita, maior_tamanho \u001b[39m=\u001b[39m backgen\u001b[39m.\u001b[39;49mretorna_linhas_offset_posicao_tamanho(vetor_curves[i],\u001b[39m5\u001b[39;49m)\n\u001b[1;32m      9\u001b[0m     gp4 \u001b[39m=\u001b[39m gpd\u001b[39m.\u001b[39mGeoSeries([linha_offset_esquerda, linha_central, linha_offset_direita])\n\u001b[1;32m     10\u001b[0m     gp4\u001b[39m.\u001b[39mplot(cmap\u001b[39m=\u001b[39m\u001b[39m\"\u001b[39m\u001b[39mtab10\u001b[39m\u001b[39m\"\u001b[39m)\n",
      "File \u001b[0;32m~/projeto_mestrado/modules/Background/background_generation.py:277\u001b[0m, in \u001b[0;36mretorna_linhas_offset_posicao_tamanho\u001b[0;34m(caminhos, distancia)\u001b[0m\n\u001b[1;32m    274\u001b[0m \u001b[39mdef\u001b[39;00m \u001b[39mretorna_linhas_offset_posicao_tamanho\u001b[39m(caminhos,distancia):\n\u001b[1;32m    275\u001b[0m   \u001b[39m#Algoritmo usando LineString e OffsetCurve\u001b[39;00m\n\u001b[0;32m--> 277\u001b[0m   linha_c  \u001b[39m=\u001b[39m LineString(caminhos)\n\u001b[1;32m    279\u001b[0m   linha_offset_esq \u001b[39m=\u001b[39m linha_c\u001b[39m.\u001b[39moffset_curve(distance\u001b[39m=\u001b[39m\u001b[39m-\u001b[39mdistancia,  join_style\u001b[39m=\u001b[39m\u001b[39m1\u001b[39m)\n\u001b[1;32m    280\u001b[0m   linha_offset_dir \u001b[39m=\u001b[39m linha_c\u001b[39m.\u001b[39moffset_curve(distance\u001b[39m=\u001b[39mdistancia, join_style\u001b[39m=\u001b[39m\u001b[39m1\u001b[39m)\n",
      "File \u001b[0;32m~/.local/lib/python3.8/site-packages/shapely/geometry/linestring.py:66\u001b[0m, in \u001b[0;36mLineString.__new__\u001b[0;34m(self, coordinates)\u001b[0m\n\u001b[1;32m     63\u001b[0m             \u001b[39melse\u001b[39;00m:\n\u001b[1;32m     64\u001b[0m                 \u001b[39mreturn\u001b[39;00m [\u001b[39mfloat\u001b[39m(c) \u001b[39mfor\u001b[39;00m c \u001b[39min\u001b[39;00m o]\n\u001b[0;32m---> 66\u001b[0m         coordinates \u001b[39m=\u001b[39m [_coords(o) \u001b[39mfor\u001b[39;00m o \u001b[39min\u001b[39;00m coordinates]\n\u001b[1;32m     68\u001b[0m \u001b[39mif\u001b[39;00m \u001b[39mlen\u001b[39m(coordinates) \u001b[39m==\u001b[39m \u001b[39m0\u001b[39m:\n\u001b[1;32m     69\u001b[0m     \u001b[39m# empty geometry\u001b[39;00m\n\u001b[1;32m     70\u001b[0m     \u001b[39m# TODO better constructor + should shapely.linestrings handle this?\u001b[39;00m\n\u001b[1;32m     71\u001b[0m     \u001b[39mreturn\u001b[39;00m shapely\u001b[39m.\u001b[39mfrom_wkt(\u001b[39m\"\u001b[39m\u001b[39mLINESTRING EMPTY\u001b[39m\u001b[39m\"\u001b[39m)\n",
      "File \u001b[0;32m~/.local/lib/python3.8/site-packages/shapely/geometry/linestring.py:66\u001b[0m, in \u001b[0;36m<listcomp>\u001b[0;34m(.0)\u001b[0m\n\u001b[1;32m     63\u001b[0m             \u001b[39melse\u001b[39;00m:\n\u001b[1;32m     64\u001b[0m                 \u001b[39mreturn\u001b[39;00m [\u001b[39mfloat\u001b[39m(c) \u001b[39mfor\u001b[39;00m c \u001b[39min\u001b[39;00m o]\n\u001b[0;32m---> 66\u001b[0m         coordinates \u001b[39m=\u001b[39m [_coords(o) \u001b[39mfor\u001b[39;00m o \u001b[39min\u001b[39;00m coordinates]\n\u001b[1;32m     68\u001b[0m \u001b[39mif\u001b[39;00m \u001b[39mlen\u001b[39m(coordinates) \u001b[39m==\u001b[39m \u001b[39m0\u001b[39m:\n\u001b[1;32m     69\u001b[0m     \u001b[39m# empty geometry\u001b[39;00m\n\u001b[1;32m     70\u001b[0m     \u001b[39m# TODO better constructor + should shapely.linestrings handle this?\u001b[39;00m\n\u001b[1;32m     71\u001b[0m     \u001b[39mreturn\u001b[39;00m shapely\u001b[39m.\u001b[39mfrom_wkt(\u001b[39m\"\u001b[39m\u001b[39mLINESTRING EMPTY\u001b[39m\u001b[39m\"\u001b[39m)\n",
      "File \u001b[0;32m~/.local/lib/python3.8/site-packages/shapely/geometry/linestring.py:64\u001b[0m, in \u001b[0;36mLineString.__new__.<locals>._coords\u001b[0;34m(o)\u001b[0m\n\u001b[1;32m     62\u001b[0m     \u001b[39mreturn\u001b[39;00m o\u001b[39m.\u001b[39mcoords[\u001b[39m0\u001b[39m]\n\u001b[1;32m     63\u001b[0m \u001b[39melse\u001b[39;00m:\n\u001b[0;32m---> 64\u001b[0m     \u001b[39mreturn\u001b[39;00m [\u001b[39mfloat\u001b[39m(c) \u001b[39mfor\u001b[39;00m c \u001b[39min\u001b[39;00m o]\n",
      "File \u001b[0;32m~/.local/lib/python3.8/site-packages/shapely/geometry/linestring.py:64\u001b[0m, in \u001b[0;36m<listcomp>\u001b[0;34m(.0)\u001b[0m\n\u001b[1;32m     62\u001b[0m     \u001b[39mreturn\u001b[39;00m o\u001b[39m.\u001b[39mcoords[\u001b[39m0\u001b[39m]\n\u001b[1;32m     63\u001b[0m \u001b[39melse\u001b[39;00m:\n\u001b[0;32m---> 64\u001b[0m     \u001b[39mreturn\u001b[39;00m [\u001b[39mfloat\u001b[39;49m(c) \u001b[39mfor\u001b[39;00m c \u001b[39min\u001b[39;00m o]\n",
      "\u001b[0;31mTypeError\u001b[0m: only size-1 arrays can be converted to Python scalars"
     ]
    }
   ],
   "source": [
    "from Background import background_generation as backgen\n",
    "from geopandas import gpd\n",
    "\n",
    "for i in range(len(array_curves)):    \n",
    "    #caminhos_transladados_interpolado = backgen.retorna_caminhos_transladados(array_curves[i], 2) # type: ignore\n",
    "\n",
    "    linha_central,linha_offset_esquerda,linha_offset_direita, maior_tamanho = backgen.retorna_linhas_offset_posicao_tamanho(array_curves[i],30)\n",
    "\n",
    "    gp4 = gpd.GeoSeries([linha_offset_esquerda, linha_central, linha_offset_direita])\n",
    "    gp4.plot(cmap=\"tab10\")\n"
   ]
  },
  {
   "cell_type": "code",
   "execution_count": 9,
   "metadata": {},
   "outputs": [],
   "source": [
    "# plt.figure(figsize=(10, 10))\n",
    "# xs, ys = list(zip(*control_points))\n",
    "# plt.scatter(xs, ys, color=\"blue\")\n",
    "# plt.scatter(ps[0], ps[1], color=\"red\")\n",
    "# plt.scatter(pe[0], pe[1], color=\"red\")\n",
    "# xs, ys = list(zip(*curve))\n",
    "# plt.plot(xs, ys)\n",
    "# plt.xlim((0,1376))\n",
    "# plt.ylim((0,1104))"
   ]
  }
 ],
 "metadata": {
  "kernelspec": {
   "display_name": "venv",
   "language": "python",
   "name": "python3"
  },
  "language_info": {
   "codemirror_mode": {
    "name": "ipython",
    "version": 3
   },
   "file_extension": ".py",
   "mimetype": "text/x-python",
   "name": "python",
   "nbconvert_exporter": "python",
   "pygments_lexer": "ipython3",
   "version": "3.8.10"
  },
  "orig_nbformat": 4
 },
 "nbformat": 4,
 "nbformat_minor": 2
}

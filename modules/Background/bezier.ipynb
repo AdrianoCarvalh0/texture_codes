{
 "cells": [
  {
   "cell_type": "code",
   "execution_count": 57,
   "metadata": {},
   "outputs": [],
   "source": [
    "import numpy as np\n",
    "\n",
    "def bezier(points, precision):\n",
    "    ts = np.linspace(0, 1, precision)\n",
    "    B = np.zeros((len(ts), 2), dtype=np.float64)\n",
    "    n = len(points) - 1\n",
    "    for idx, t in enumerate(ts):\n",
    "        for i in range(n+1):\n",
    "            bin_coef = np.math.factorial(n) / (np.math.factorial(i) * np.math.factorial(n-i))\n",
    "            Pin = bin_coef * (1-t)**(n-i) * t**i\n",
    "            B[idx] += Pin * points[i]\n",
    "\n",
    "    return B\n",
    "\n",
    "padding = 20\n",
    "\n",
    "def criando_pontos(tam):\n",
    "    points = []\n",
    "    vetor_distancias = []\n",
    "    while len(points)<tam:\n",
    "        p1x = np.random.randint(0,1776-padding)   \n",
    "        p1y = np.random.randint(0,1504-padding)   \n",
    "        p2x = np.random.randint(0,1776-padding) \n",
    "        p2y = np.random.randint(0,1504-padding)  \n",
    "        distancia = np.sqrt((p1x-p2x)**2 + (p1y-p2y)**2)\n",
    "        if distancia > 500 and distancia < 1300:\n",
    "            p1 = np.array((p1x,p1y))\n",
    "            p2 = np.array((p2x,p2y))\n",
    "            p = np.vstack((p1, p2))        \n",
    "            points.append(p)\n",
    "            distancia\n",
    "    return points, distancia\n",
    "\n",
    "def criar_array_curves(pontos):\n",
    "    array_curves = []\n",
    "\n",
    "    ps = pontos[0][0] # ponto inicial   \n",
    "    pe = pontos[0][1] # ponto final \n",
    "    dx = pe[0]-ps[0]\n",
    "    dy = pe[1]-ps[1]\n",
    "    distancia = np.sqrt((pe[0]-ps[0])**2 + (pe[1] - ps[1])**2)\n",
    "    normal_se = np.array((-dy, dx))/distancia #ou (dy, -dx) --> vetor normal à (pe-ps)\n",
    "    max_vd = 500 # distancia máxima em que os pontos de controle serão sorteados (usar entre 0 e 1)\n",
    "    n_points = 200 # numero de pontos de controle entre pe e ps \n",
    "\n",
    "    control_points = []\n",
    "    hds = np.linspace(0.2, 0.8, n_points) # faz com que os pontos de controle sejam equidistantes em relação à (pe-ps)\n",
    "\n",
    "    for j in range(n_points):    \n",
    "        # control_point = (pe-ps) * np.random.uniform(low=0.2, high=0.8)\n",
    "        control_point = ((pe-ps) * hds[j]) # setar as distancias horizontais dessa maneira deixa um aspecto mais natural\n",
    "        control_point += (normal_se * np.random.uniform(low=-1, high=1) * max_vd)\n",
    "        control_points.append(control_point+ps)\n",
    "\n",
    "    control_points.insert(0, ps)\n",
    "    control_points.append(pe)\n",
    "    curve = bezier(control_points, precision=100)       \n",
    "    array_curves.append(curve)        \n",
    "    return array_curves "
   ]
  },
  {
   "cell_type": "code",
   "execution_count": 58,
   "metadata": {},
   "outputs": [],
   "source": [
    "from matplotlib import pyplot as plt\n",
    "import sys\n",
    "\n",
    "from pathlib import Path\n",
    "\n",
    "#linux\n",
    "#sys.path.insert(0, \"/home/adriano/projeto_mestrado/modules/\")\n",
    "\n",
    "#windows\n",
    "sys.path.insert(0, r\"C:\\Users\\adria\\Documents\\Mestrado\\texture_codes\\modules\")\n",
    "\n",
    "#root_dir = f\"/home/adriano/projeto_mestrado/modules\"\n",
    "root_dir = Path(r\"C:\\Users\\adria\\Documents\\Mestrado\\texture_codes\\modules\")\n",
    "\n",
    "\n",
    "from Funcoes_gerais import funcoes\n",
    "\n",
    "\n",
    "tracados_bezier = f'{root_dir}/Artificial_Lines/tracados_bezier/'\n",
    "\n",
    "img_especifica = 'Experiment #1 (adults set #1)_20x_batch1 - Superfical layers@40-Image 3-20X'\n",
    "\n",
    "array_curves = []\n",
    "for i in range(5): \n",
    "    pontos, distancia = criando_pontos(25)\n",
    "    curve = criar_array_curves(pontos)\n",
    "    dict = {\n",
    "        \"curve\": curve,\n",
    "        \"distancia\": distancia\n",
    "    }\n",
    "    curve.append(distancia)   \n",
    "    funcoes.gravar_dict_arquivo(dict,f'{tracados_bezier}/teste/img_savedata_{i+5}.json')\n",
    "    array_curves.append(curve)"
   ]
  },
  {
   "cell_type": "code",
   "execution_count": null,
   "metadata": {},
   "outputs": [],
   "source": [
    "from Background import background_generation as backgen\n",
    "from geopandas import gpd\n",
    "\n",
    "\n",
    "\n",
    "for i in range(len(array_curves)):    \n",
    "    #caminhos_transladados_interpolado = backgen.retorna_caminhos_transladados(array_curves[i], 2) # type: ignore\n",
    "\n",
    "    linha_central,linha_offset_esquerda,linha_offset_direita, maior_tamanho = backgen.retorna_linhas_offset_posicao_tamanho(array_curves[i][0],30)   \n",
    "    fig, ax2 = plt.subplots(figsize=(10,5))\n",
    "    gp4 = gpd.GeoSeries([linha_offset_esquerda, linha_central, linha_offset_direita])   \n",
    "    gp4.plot(ax=ax2, cmap=\"tab10\")   \n",
    "    fig.savefig(f'{root_dir}/Artificial_Lines/LineStrings/varios_pontos_controle/tracado_{i}.svg', format='svg')\n"
   ]
  },
  {
   "cell_type": "code",
   "execution_count": 24,
   "metadata": {},
   "outputs": [
    {
     "name": "stdout",
     "output_type": "stream",
     "text": [
      "656.494478270762\n"
     ]
    }
   ],
   "source": [
    "print(array_curves[0][0])"
   ]
  },
  {
   "cell_type": "code",
   "execution_count": null,
   "metadata": {},
   "outputs": [],
   "source": []
  }
 ],
 "metadata": {
  "kernelspec": {
   "display_name": "venv",
   "language": "python",
   "name": "python3"
  },
  "language_info": {
   "codemirror_mode": {
    "name": "ipython",
    "version": 3
   },
   "file_extension": ".py",
   "mimetype": "text/x-python",
   "name": "python",
   "nbconvert_exporter": "python",
   "pygments_lexer": "ipython3",
   "version": "3.9.13"
  },
  "orig_nbformat": 4
 },
 "nbformat": 4,
 "nbformat_minor": 2
}

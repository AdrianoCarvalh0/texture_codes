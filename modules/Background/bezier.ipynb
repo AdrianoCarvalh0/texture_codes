{
 "cells": [
  {
   "cell_type": "code",
   "execution_count": 94,
   "metadata": {},
   "outputs": [],
   "source": [
    "import numpy as np\n",
    "from matplotlib import pyplot as plt\n",
    "import sys\n",
    "sys.path.insert(0, \"/home/adriano/projeto_mestrado/modules/\")\n",
    "\n",
    "from Funcoes_gerais import funcoes\n",
    "\n",
    "root_dir = f\"/home/adriano/projeto_mestrado/modules\"\n",
    "\n",
    "tracados_bezier = f'{root_dir}/Artificial_Lines/tracados_bezier/'\n",
    "\n",
    "img_especifica = 'Experiment #1 (adults set #1)_20x_batch1 - Superfical layers@40-Image 3-20X'\n",
    "\n",
    "def bezier(points, precision):\n",
    "    ts = np.linspace(0, 1, precision)\n",
    "    B = np.zeros((len(ts), 2), dtype=np.float64)\n",
    "    n = len(points) - 1\n",
    "    for idx, t in enumerate(ts):\n",
    "        for i in range(n+1):\n",
    "            bin_coef = np.math.factorial(n) / (np.math.factorial(i) * np.math.factorial(n-i))\n",
    "            Pin = bin_coef * (1-t)**(n-i) * t**i\n",
    "            B[idx] += Pin * points[i]\n",
    "\n",
    "    return B\n",
    "\n",
    "def criando_pontos(tam):\n",
    "    points = []\n",
    "    while len(points)<tam:\n",
    "        p1x = np.random.randint(0,1376)   \n",
    "        p1y = np.random.randint(0,1104)   \n",
    "        p2x = np.random.randint(0,1376) \n",
    "        p2y = np.random.randint(0,1104)  \n",
    "        distancia = np.sqrt((p1x-p2x)**2 + (p1y-p2y)**2)\n",
    "        if distancia > 500:\n",
    "            p1 = np.array((p1x,p1y))\n",
    "            p2 = np.array((p2x,p2y))\n",
    "            p = np.vstack((p1, p2))        \n",
    "            points.append(p)\n",
    "    return points"
   ]
  },
  {
   "cell_type": "code",
   "execution_count": 100,
   "metadata": {},
   "outputs": [],
   "source": [
    "# Sorteando curvas aleatórias\n",
    "\n",
    "pontos = criando_pontos(10)\n",
    "array_curves = []\n",
    "for i in range(len(pontos)):\n",
    "    ps = pontos[i][0] # ponto inicial   \n",
    "    pe = pontos[0][1] # ponto final \n",
    "    dx = pe[0]-ps[0]\n",
    "    dy = pe[1]-ps[1]\n",
    "    distancia = np.sqrt((pe[0]-ps[0])**2 + (pe[1] - ps[1])**2)\n",
    "    normal_se = np.array((-dy, dx))/distancia #ou (dy, -dx) --> vetor normal à (pe-ps)\n",
    "    max_vd = 500 # distancia máxima em que os pontos de controle serão sorteados (usar entre 0 e 1)\n",
    "    n_points = 6 # numero de pontos de controle entre pe e ps \n",
    "\n",
    "    control_points = []\n",
    "    hds = np.linspace(0.2, 0.8, n_points) # faz com que os pontos de controle sejam equidistantes em relação à (pe-ps)\n",
    "\n",
    "    for i in range(n_points):    \n",
    "        # control_point = (pe-ps) * np.random.uniform(low=0.2, high=0.8)\n",
    "        control_point = ((pe-ps) * hds[i]) # setar as distancias horizontais dessa maneira deixa um aspecto mais natural\n",
    "        control_point += (normal_se * np.random.uniform(low=-1, high=1) * max_vd)\n",
    "        control_points.append(control_point+ps)\n",
    "\n",
    "    control_points.insert(0, ps)\n",
    "    control_points.append(pe)\n",
    "    curve = bezier(control_points, precision=100)\n",
    "array_curves.append(curve)\n"
   ]
  },
  {
   "cell_type": "code",
   "execution_count": 101,
   "metadata": {},
   "outputs": [],
   "source": [
    "i = 1\n",
    "\n",
    "# arquivo = f'{root_dir}/Vetores_Extraidos_json/teste{imag}.json'\n",
    "#funcoes.gravar_array_arquivo(curve,f'/home/adriano/projeto_mestrado/modules/Artificial_Lines/tracados_bezier/{img_especifica}_savedata_{i}.json')\n",
    "funcoes.gravar_array_arquivo(array_curves,f'{tracados_bezier}{img_especifica}_savedata_{i}.json')"
   ]
  },
  {
   "cell_type": "code",
   "execution_count": null,
   "metadata": {},
   "outputs": [],
   "source": []
  },
  {
   "cell_type": "code",
   "execution_count": 98,
   "metadata": {},
   "outputs": [
    {
     "name": "stdout",
     "output_type": "stream",
     "text": [
      "[979 203]\n",
      "[array([[979, 203],\n",
      "       [ 90, 410]]), array([[826, 746],\n",
      "       [294, 774]]), array([[ 481,  396],\n",
      "       [1087,   32]]), array([[316, 756],\n",
      "       [873, 378]]), array([[1071,  868],\n",
      "       [  94,   67]]), array([[1115,  187],\n",
      "       [ 443,   24]]), array([[ 769,  258],\n",
      "       [1302,  289]]), array([[159, 256],\n",
      "       [887, 693]]), array([[1019,  466],\n",
      "       [   9,  463]]), array([[ 520,  802],\n",
      "       [1268,  263]])]\n"
     ]
    }
   ],
   "source": [
    "# plt.figure(figsize=(10, 10))\n",
    "# xs, ys = list(zip(*control_points))\n",
    "# plt.scatter(xs, ys, color=\"blue\")\n",
    "# plt.scatter(ps[0], ps[1], color=\"red\")\n",
    "# plt.scatter(pe[0], pe[1], color=\"red\")\n",
    "# xs, ys = list(zip(*curve))\n",
    "# plt.plot(xs, ys)\n",
    "# plt.xlim((0,1376))\n",
    "# plt.ylim((0,1104))"
   ]
  }
 ],
 "metadata": {
  "kernelspec": {
   "display_name": "venv",
   "language": "python",
   "name": "python3"
  },
  "language_info": {
   "codemirror_mode": {
    "name": "ipython",
    "version": 3
   },
   "file_extension": ".py",
   "mimetype": "text/x-python",
   "name": "python",
   "nbconvert_exporter": "python",
   "pygments_lexer": "ipython3",
   "version": "3.8.10"
  },
  "orig_nbformat": 4
 },
 "nbformat": 4,
 "nbformat_minor": 2
}

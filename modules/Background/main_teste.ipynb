{
 "cells": [
  {
   "cell_type": "code",
   "execution_count": 6,
   "metadata": {},
   "outputs": [
    {
     "ename": "TypeError",
     "evalue": "cannot unpack non-iterable NoneType object",
     "output_type": "error",
     "traceback": [
      "\u001b[0;31m---------------------------------------------------------------------------\u001b[0m",
      "\u001b[0;31mTypeError\u001b[0m                                 Traceback (most recent call last)",
      "Cell \u001b[0;32mIn[6], line 110\u001b[0m\n\u001b[1;32m    108\u001b[0m results \u001b[38;5;241m=\u001b[39m backgen\u001b[38;5;241m.\u001b[39minsert_vessels2(vector_medial_path[\u001b[38;5;241m0\u001b[39m], vector_medial_path[\u001b[38;5;241m1\u001b[39m], vessel_map, normalized_original_map, binary_map_without_artifacts, background)\n\u001b[1;32m    109\u001b[0m counter \u001b[38;5;241m+\u001b[39m\u001b[38;5;241m=\u001b[39m\u001b[38;5;241m1\u001b[39m\n\u001b[0;32m--> 110\u001b[0m vessel_without_artifacts, map_without_artifacts, mask_map, treshold \u001b[38;5;241m=\u001b[39m results  \n\u001b[1;32m    111\u001b[0m background_with_vessels \u001b[38;5;241m=\u001b[39m backgen\u001b[38;5;241m.\u001b[39minsert_map(background_with_vessels,vessel_without_artifacts,map_without_artifacts,mask_map, treshold, has_maps)\n\u001b[1;32m    112\u001b[0m background_with_vessels_bin \u001b[38;5;241m=\u001b[39m backgen\u001b[38;5;241m.\u001b[39minsert_binary_map(background_with_vessels_bin,vessel_without_artifacts,has_maps_bin)\n",
      "\u001b[0;31mTypeError\u001b[0m: cannot unpack non-iterable NoneType object"
     ]
    }
   ],
   "source": [
    "#Usar os mesmos mapas sempre\n",
    "from pathlib import Path\n",
    "import numpy as np\n",
    "from PIL import Image\n",
    "import sys\n",
    "from matplotlib import pyplot as plt\n",
    "\n",
    "import background_generation as backgen\n",
    "#windows\n",
    "#sys.path.insert(0, r\"C:\\Users\\adria\\Documents\\Mestrado\\texture_codes\\modules\")\n",
    "#root_dir = Path(r\"C:\\Users\\adria\\Documents\\Mestrado\\texture_codes\\modules\")\n",
    "\n",
    "#linux\n",
    "sys.path.insert(0, \"/home/adriano/projeto_mestrado/modules/\")\n",
    "root_dir = f\"/home/adriano/projeto_mestrado/modules\"\n",
    "\n",
    "\n",
    "from Utils import functions\n",
    "import pickle\n",
    "\n",
    "params = { 'dir_maps_pickle': f'{root_dir}/Vessel_models_pickle',\n",
    "            'num_maps': 5, # number of maps to be inserted\n",
    "            'num_images': 100, #number of images desired\n",
    "            'dir_backs': f'{root_dir}/Background/Artificially_generated_maps', #background's directory\n",
    "            'dir_images': f'{root_dir}/Images/vessel_data/images', # original images directory\n",
    "            'dir_labels': f'{root_dir}/Images/vessel_data/labels_20x', # label directory\n",
    "            'dir_traces': f'{root_dir}/Artificial_lines/bezier_traces_tests', # directory of traces - Bezier curves\n",
    "            'generate_back':False, #\n",
    "            'out_dir': f'{root_dir}/Images/Background_with_vessels_tests', #output directory\n",
    "            'min_number_vessels': 20, # minimum number of vessels\n",
    "            'max_number_vessels': 50, # maximum number of vessels\n",
    "\n",
    "          }\n",
    "\n",
    "#def generate_maps(params):\n",
    "array_maps = functions.read_directories(params['dir_maps_pickle'])\n",
    "array_images = functions.read_directories(params['dir_images'])\n",
    "array_labels = functions.read_directories(params['dir_labels'])\n",
    "array_backrounds = functions.read_directories(params['dir_backs'])\n",
    "array_traces = functions.read_directories(params['dir_traces'])\n",
    "n_random = np.random.randint(0, len(array_images))\n",
    "image = array_images[n_random]\n",
    "\n",
    "if params['generate_back']:\n",
    "    while not image in array_backrounds:\n",
    "        if image in params[\"dir_images\"] and image in params[\"dir_labels\"]:\n",
    "            background = backgen.estimate_background(f'{params[\"dir_images\"]}/{image}', f'{params[\"dir_labels\"]}/{image}')\n",
    "        else:\n",
    "            n_background = np.random.randint(0, len(array_images))\n",
    "            image = array_images[n_background]\n",
    "else:\n",
    "    n_background = np.random.randint(0, len(array_backrounds))\n",
    "    background = np.array(Image.open(f'{params[\"dir_images\"]}/{array_backrounds[n_background]}'))     \n",
    "\n",
    "sorted_array_maps = []\n",
    "array_dict = []\n",
    "\n",
    "for i in range(params['num_maps']):\n",
    "    normalized_original_map = None    \n",
    "    while normalized_original_map is None:\n",
    "        n_random_map = np.random.randint(0, len(array_maps))\n",
    "        path_map = (f\"{params['dir_maps_pickle']}/{array_maps[n_random_map]}\")\n",
    "        map_pickle = pickle.load(open(path_map, 'rb'))\n",
    "        map = array_maps[n_random_map]\n",
    "        vessel_map = map_pickle['vessel_model'].vessel_map \n",
    "        original_map = vessel_map.mapped_values\n",
    "        vessel_mask = vessel_map.mapped_mask_values\n",
    "        normalized_original_map = backgen.normalize(background,original_map,vessel_mask,30)\n",
    "        # def normalize(img_background, img_map, vessel_mask, threshold):\n",
    "        if normalized_original_map is not None:\n",
    "            binary_map_without_lateral_artifacts = backgen.returns_binary_image_without_artifacts(vessel_map, vessel_mask)\n",
    "\n",
    "            # Fill holes in the binary map without lateral artifacts\n",
    "            binary_map_without_artifacts = backgen.fill_holes(binary_map_without_lateral_artifacts)\n",
    "            \n",
    "            dict ={ \"vessel_map\": vessel_map,\n",
    "                   'normalized_original_map': normalized_original_map,\n",
    "                   'binary_map_without_artifacts': binary_map_without_artifacts,\n",
    "            }\n",
    "            array_dict.append(dict)\n",
    "\n",
    "\n",
    "background_name = f'{image}'\n",
    "background_name = background_name.replace(\"'\",\"\").replace(\".tiff\",\"\")\n",
    "\n",
    "clipping_background = background[0:1100,0:1370]\n",
    "background_with_pad = np.pad(clipping_background, ((200,200),(200,200)), mode=\"symmetric\", reflect_type=\"even\")\n",
    "background_bin = np.zeros(background_with_pad.shape)\n",
    "\n",
    "background_with_vessels_bin = background_bin.copy()\n",
    "background_with_vessels = background_with_pad.copy()\n",
    "\n",
    "has_maps =  np.full(shape = background_with_pad.shape, fill_value=0)\n",
    "has_maps_bin =  np.full(shape = background_bin.shape, fill_value=0)\n",
    "\n",
    "number_of_vessels = np.random.randint(params['min_number_vessels'], params['max_number_vessels']) \n",
    "\n",
    "counter = 0\n",
    "\n",
    "while counter < number_of_vessels:\n",
    "    n_traces = np.random.randint(0, len(array_traces))\n",
    "    trace = array_traces[n_traces]    \n",
    "    vector_medial_path = backgen.return_paths(f\"{params['dir_traces']}/{trace}\")\n",
    "    n_random = np.random.randint(0, len(array_dict))\n",
    "    vessel_map = array_dict[n_random]['vessel_map']\n",
    "    normalized_original_map = array_dict[n_random]['normalized_original_map']\n",
    "    binary_map_without_artifacts = array_dict[n_random]['binary_map_without_artifacts']\n",
    "    # results = backgen.insert_vessels2(vector_medial_path[0], vector_medial_path[1], vessel_map, normalized_original_map, binary_map_without_artifacts, background)\n",
    "   \n",
    "    # vessel_without_artifacts, map_without_artifacts, mask_map, treshold = results  \n",
    "    # background_with_vessels = backgen.insert_map(background_with_vessels,vessel_without_artifacts,map_without_artifacts,mask_map, treshold, has_maps)\n",
    "    # background_with_vessels_bin = backgen.insert_binary_map(background_with_vessels_bin,vessel_without_artifacts,has_maps_bin)\n",
    "    counter +=1\n",
    "\n",
    "background_clipped = background_with_vessels[200:1304,200:1576]\n",
    "background_clipped_bin = background_with_vessels_bin[200:1304,200:1576]\n",
    "\n",
    "img1 = Image.fromarray(background_clipped.astype(np.uint8))\n",
    "path = f\"{params['out_dir']}/images/{background_name}_{j}_com_{number_of_vessels}.tiff\"\n",
    "img = img1.save(path)\n",
    "\n",
    "img2 = Image.fromarray(background_clipped_bin.astype(np.bool_))\n",
    "path = f\"{params['out_dir']}/labels/{background_name}_{j}_com_{number_of_vessels}.tiff\"\n",
    "img = img2.save(path)\n"
   ]
  },
  {
   "cell_type": "code",
   "execution_count": 5,
   "metadata": {},
   "outputs": [
    {
     "data": {
      "text/plain": [
       "array(490.29480927)"
      ]
     },
     "execution_count": 5,
     "metadata": {},
     "output_type": "execute_result"
    }
   ],
   "source": [
    "binary_map_without_artifacts\n",
    "vector_medial_path[1]"
   ]
  },
  {
   "cell_type": "code",
   "execution_count": null,
   "metadata": {},
   "outputs": [],
   "source": [
    "n_random"
   ]
  },
  {
   "cell_type": "code",
   "execution_count": null,
   "metadata": {},
   "outputs": [],
   "source": [
    "plt.figure(figsize=[10, 8])\n",
    "plt.title(\"background\")\n",
    "plt.imshow(background, 'gray', vmin=0, vmax=255)\n"
   ]
  }
 ],
 "metadata": {
  "kernelspec": {
   "display_name": ".venv",
   "language": "python",
   "name": "python3"
  },
  "language_info": {
   "codemirror_mode": {
    "name": "ipython",
    "version": 3
   },
   "file_extension": ".py",
   "mimetype": "text/x-python",
   "name": "python",
   "nbconvert_exporter": "python",
   "pygments_lexer": "ipython3",
   "version": "3.8.10"
  }
 },
 "nbformat": 4,
 "nbformat_minor": 2
}

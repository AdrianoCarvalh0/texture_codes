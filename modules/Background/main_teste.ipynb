{
 "cells": [
  {
   "cell_type": "code",
   "execution_count": 3,
   "metadata": {},
   "outputs": [],
   "source": [
    "from pathlib import Path\n",
    "import numpy as np\n",
    "from PIL import Image\n",
    "import sys\n",
    "from matplotlib import pyplot as plt\n",
    "\n",
    "import background_generation as backgen\n",
    "#windows\n",
    "#sys.path.insert(0, r\"C:\\Users\\adria\\Documents\\Mestrado\\texture_codes\\modules\")\n",
    "#root_dir = Path(r\"C:\\Users\\adria\\Documents\\Mestrado\\texture_codes\\modules\")\n",
    "\n",
    "#linux\n",
    "sys.path.insert(0, \"/home/adriano/projeto_mestrado/modules/\")\n",
    "root_dir = f\"/home/adriano/projeto_mestrado/modules\"\n",
    "\n",
    "from Utils import functions\n",
    "\n",
    "\n",
    "img_dir = f'{root_dir}/Images/vessel_data/images'\n",
    "lab_dir = f'{root_dir}/Images/vessel_data/labels_20x'\n",
    "training_dir = f'{root_dir}/Training_validation'\n",
    "\n",
    "pickle_dir_5 = f'{training_dir}/Maps/5_maps_de_images'\n",
    "pickle_dir_10 = f'{training_dir}/Maps/10_maps_10_images'\n",
    "pickle_dir_40 = f'{training_dir}/Maps/160_maps_40_images'\n",
    "pickle_dir_50 = f'{training_dir}/Maps/200_maps_50_images'\n",
    "pickle_dir_343 = f'{root_dir}/Vessel_models_pickle'\n",
    "\n",
    "background_dir = f'{root_dir}/Background/Artificially_generated_maps'\n",
    "background_dir_5 = f'{training_dir}/Backgrounds/5_backgrounds'\n",
    "background_dir_10 = f'{training_dir}/Backgrounds/10_backgrounds'\n",
    "background_dir_40 = f'{training_dir}/Backgrounds/40_backgrounds'\n",
    "background_dir_50 = f'{training_dir}/Backgrounds/50_backgrounds'"
   ]
  },
  {
   "cell_type": "code",
   "execution_count": 19,
   "metadata": {},
   "outputs": [],
   "source": [
    "#Usar os mesmos mapas sempre\n",
    "\n",
    "import background_generation as backgen\n",
    "\n",
    "from Utils import functions\n",
    "\n",
    "params = { 'dir_maps_pickle': f'{root_dir}/Vessel_models_pickle',\n",
    "            'num_maps': 5, # number of maps to be inserted\n",
    "            'num_images': 100, #number of images desired\n",
    "            'dir_backs': f'{root_dir}/Background/Artificially_generated_maps', #background's directory\n",
    "            'dir_images': f'{root_dir}/Images/vessel_data/images', # original images directory\n",
    "            'dir_labels': f'{root_dir}/Images/vessel_data/labels_20x', # label directory\n",
    "            'generate_back':False,\n",
    "            'out_dir': f'{root_dir}/Images/Background_with_vessels', #output directory \n",
    "          }\n",
    "\n",
    "#def generate_maps(params):\n",
    "array_maps = functions.read_directories(params['dir_maps_pickle'])\n",
    "array_images = functions.read_directories(params['dir_images'])\n",
    "array_labels = functions.read_directories(params['dir_labels'])\n",
    "array_backrounds = functions.read_directories(params['dir_backs'])\n",
    "n_random = np.random.randint(0, len(array_images))\n",
    "image = array_images[n_random]\n",
    "\n",
    "sorted_array_maps = []\n",
    "\n",
    "for i in range(params['num_maps']):\n",
    "    n_random = np.random.randint(0, len(array_maps))\n",
    "    map = array_maps[n_random]\n",
    "    sorted_array_maps.append(map)\n",
    "\n",
    "if params['generate_back']:\n",
    "    if not image in array_backrounds:    \n",
    "        backgen.estimate_background(f'{params[\"dir_images\"]}/{image}', f'{params[\"dir_labels\"]}/{image}')\n",
    "      \n",
    "      \n",
    "\n",
    "#generate_maps(params)"
   ]
  },
  {
   "cell_type": "code",
   "execution_count": 20,
   "metadata": {},
   "outputs": [
    {
     "data": {
      "text/plain": [
       "['Experiment #1 (adults set #1)_20x_batch1 - Superfical layers@68-Image 2-20X_savedata4.pickle',\n",
       " 'Experiment #1 (adults set #1)_20x_batch1 - Superfical layers@69-Image 4-20X_savedata3.pickle',\n",
       " 'Experiment #1 (adults set #1)_20x_batch1 - Superfical layers@75-Image 1-20X_savedata5.pickle',\n",
       " 'Experiment #1 (adults set #1)_20x_batch1 - Superfical layers@40-Image 3-20X_savedata3.pickle',\n",
       " 'Experiment #1 (adults set #1)_20x_batch1 - Superfical layers@60-Image 2-20X_savedata4.pickle']"
      ]
     },
     "execution_count": 20,
     "metadata": {},
     "output_type": "execute_result"
    }
   ],
   "source": [
    "sorted_array_maps"
   ]
  }
 ],
 "metadata": {
  "kernelspec": {
   "display_name": ".venv",
   "language": "python",
   "name": "python3"
  },
  "language_info": {
   "codemirror_mode": {
    "name": "ipython",
    "version": 3
   },
   "file_extension": ".py",
   "mimetype": "text/x-python",
   "name": "python",
   "nbconvert_exporter": "python",
   "pygments_lexer": "ipython3",
   "version": "3.8.10"
  }
 },
 "nbformat": 4,
 "nbformat_minor": 2
}

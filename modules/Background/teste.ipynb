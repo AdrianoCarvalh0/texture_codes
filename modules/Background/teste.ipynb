{
 "cells": [
  {
   "cell_type": "code",
   "execution_count": 6,
   "metadata": {},
   "outputs": [
    {
     "ename": "KeyboardInterrupt",
     "evalue": "",
     "output_type": "error",
     "traceback": [
      "\u001b[1;31m---------------------------------------------------------------------------\u001b[0m",
      "\u001b[1;31mKeyboardInterrupt\u001b[0m                         Traceback (most recent call last)",
      "Cell \u001b[1;32mIn[6], line 27\u001b[0m\n\u001b[0;32m     24\u001b[0m tracemalloc\u001b[39m.\u001b[39mstart()\n\u001b[0;32m     25\u001b[0m start_time \u001b[39m=\u001b[39m time\u001b[39m.\u001b[39mtime()\n\u001b[1;32m---> 27\u001b[0m generated_background \u001b[39m=\u001b[39m backgen\u001b[39m.\u001b[39;49mestimate_background(img, label)\n\u001b[0;32m     28\u001b[0m nome_background \u001b[39m=\u001b[39m \u001b[39mf\u001b[39m\u001b[39m'\u001b[39m\u001b[39m{\u001b[39;00mroot_dir\u001b[39m}\u001b[39;00m\u001b[39m\\\\\u001b[39;00m\u001b[39mBackground\u001b[39m\u001b[39m\\\\\u001b[39;00m\u001b[39mMapas_gerados_artificialmente\u001b[39m\u001b[39m\\\\\u001b[39;00m\u001b[39m{\u001b[39;00mfilenames[i]\u001b[39m}\u001b[39;00m\u001b[39m.png\u001b[39m\u001b[39m'\u001b[39m\n\u001b[0;32m     29\u001b[0m \u001b[39m#plt.imsave(arquivo_min0max60, vessel_map.mapped_values, cmap='gray', vmin=0, vmax=60) \u001b[39;00m\n",
      "File \u001b[1;32mc:\\Users\\adria\\Documents\\Mestrado\\texture_codes\\modules\\Background\\background_generation.py:204\u001b[0m, in \u001b[0;36mestimate_background\u001b[1;34m(image, label, window_size)\u001b[0m\n\u001b[0;32m    201\u001b[0m foreground_dm \u001b[39m=\u001b[39m distance_matrix(foreground_centers, background_centers)\n\u001b[0;32m    203\u001b[0m \u001b[39mfor\u001b[39;00m fp \u001b[39min\u001b[39;00m foreground_patches:\n\u001b[1;32m--> 204\u001b[0m     only_foreground[fp[\u001b[39m0\u001b[39m], fp[\u001b[39m1\u001b[39m]] \u001b[39m=\u001b[39m image[fp[\u001b[39m0\u001b[39m], fp[\u001b[39m1\u001b[39m]]\n\u001b[0;32m    206\u001b[0m \u001b[39mfor\u001b[39;00m bp \u001b[39min\u001b[39;00m background_patches:\n\u001b[0;32m    207\u001b[0m     only_background[bp[\u001b[39m0\u001b[39m], bp[\u001b[39m1\u001b[39m]] \u001b[39m=\u001b[39m image[bp[\u001b[39m0\u001b[39m], bp[\u001b[39m1\u001b[39m]]\n",
      "File \u001b[1;32mc:\\Users\\adria\\Documents\\Mestrado\\texture_codes\\venv\\lib\\site-packages\\scipy\\spatial\\_kdtree.py:919\u001b[0m, in \u001b[0;36mdistance_matrix\u001b[1;34m(x, y, p, threshold)\u001b[0m\n\u001b[0;32m    917\u001b[0m \u001b[39melse\u001b[39;00m:\n\u001b[0;32m    918\u001b[0m     \u001b[39mfor\u001b[39;00m j \u001b[39min\u001b[39;00m \u001b[39mrange\u001b[39m(n):\n\u001b[1;32m--> 919\u001b[0m         result[:,j] \u001b[39m=\u001b[39m minkowski_distance(x,y[j],p)\n\u001b[0;32m    920\u001b[0m \u001b[39mreturn\u001b[39;00m result\n",
      "File \u001b[1;32mc:\\Users\\adria\\Documents\\Mestrado\\texture_codes\\venv\\lib\\site-packages\\scipy\\spatial\\_kdtree.py:95\u001b[0m, in \u001b[0;36mminkowski_distance\u001b[1;34m(x, y, p)\u001b[0m\n\u001b[0;32m     93\u001b[0m     \u001b[39mreturn\u001b[39;00m minkowski_distance_p(x, y, p)\n\u001b[0;32m     94\u001b[0m \u001b[39melse\u001b[39;00m:\n\u001b[1;32m---> 95\u001b[0m     \u001b[39mreturn\u001b[39;00m minkowski_distance_p(x, y, p)\u001b[39m*\u001b[39m\u001b[39m*\u001b[39m(\u001b[39m1.\u001b[39m\u001b[39m/\u001b[39mp)\n",
      "File \u001b[1;32mc:\\Users\\adria\\Documents\\Mestrado\\texture_codes\\venv\\lib\\site-packages\\scipy\\spatial\\_kdtree.py:60\u001b[0m, in \u001b[0;36mminkowski_distance_p\u001b[1;34m(x, y, p)\u001b[0m\n\u001b[0;32m     58\u001b[0m     \u001b[39mreturn\u001b[39;00m np\u001b[39m.\u001b[39msum(np\u001b[39m.\u001b[39mabs(y\u001b[39m-\u001b[39mx), axis\u001b[39m=\u001b[39m\u001b[39m-\u001b[39m\u001b[39m1\u001b[39m)\n\u001b[0;32m     59\u001b[0m \u001b[39melse\u001b[39;00m:\n\u001b[1;32m---> 60\u001b[0m     \u001b[39mreturn\u001b[39;00m np\u001b[39m.\u001b[39msum(np\u001b[39m.\u001b[39mabs(y\u001b[39m-\u001b[39;49mx)\u001b[39m*\u001b[39m\u001b[39m*\u001b[39mp, axis\u001b[39m=\u001b[39m\u001b[39m-\u001b[39m\u001b[39m1\u001b[39m)\n",
      "\u001b[1;31mKeyboardInterrupt\u001b[0m: "
     ]
    }
   ],
   "source": [
    "import sys, pickle, os\n",
    "import tracemalloc, time\n",
    "import numpy as np\n",
    "from PIL import Image\n",
    "import matplotlib.pyplot as plt\n",
    "\n",
    "import background_generation as backgen\n",
    "\n",
    "root_dir =\"C:\\\\Users\\\\adria\\\\Documents\\\\Mestrado\\\\texture_codes\\\\modules\"\n",
    "\n",
    "img_dir = root_dir + '\\\\Imagens\\\\vessel_data\\\\images'\n",
    "lab_dir = root_dir + '\\\\Imagens\\\\vessel_data\\\\labels_20x'\n",
    "\n",
    "#Varrendo o diretório\n",
    "filenames = []\n",
    "for filename in os.listdir(img_dir):     \n",
    "    filenames.append(filename.split('.')[0])\n",
    "#filenames = filenames[:20]\n",
    "#for i in range(len(filenames)):\n",
    "for i in range(1):\n",
    "    img = np.array(Image.open(img_dir + f'\\\\{filenames[i]}.tiff'))\n",
    "    label = np.array(Image.open(lab_dir + f'\\\\{filenames[i]}.png'))\n",
    "    #Criando o Background\n",
    "    tracemalloc.start()\n",
    "    start_time = time.time()\n",
    "        \n",
    "    generated_background = backgen.estimate_background(img, label)\n",
    "    nome_background = f'{root_dir}\\\\Background\\\\Mapas_gerados_artificialmente\\\\{filenames[i]}.png'\n",
    "    #plt.imsave(arquivo_min0max60, vessel_map.mapped_values, cmap='gray', vmin=0, vmax=60) \n",
    "    plt.imsave(nome_background, generated_background,cmap='gray') \n",
    "\n",
    "    end_time = time.time()\n",
    "    _, peak_memory = tracemalloc.get_traced_memory()\n",
    "    execution_time = end_time - start_time"
   ]
  }
 ],
 "metadata": {
  "kernelspec": {
   "display_name": "venv",
   "language": "python",
   "name": "python3"
  },
  "language_info": {
   "codemirror_mode": {
    "name": "ipython",
    "version": 3
   },
   "file_extension": ".py",
   "mimetype": "text/x-python",
   "name": "python",
   "nbconvert_exporter": "python",
   "pygments_lexer": "ipython3",
   "version": "3.9.13"
  },
  "orig_nbformat": 4
 },
 "nbformat": 4,
 "nbformat_minor": 2
}

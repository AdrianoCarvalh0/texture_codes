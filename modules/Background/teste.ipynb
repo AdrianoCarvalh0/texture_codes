{
 "cells": [
  {
   "cell_type": "code",
   "execution_count": 4,
   "metadata": {},
   "outputs": [],
   "source": [
    "import sys, pickle, os\n",
    "import tracemalloc, time\n",
    "import numpy as np\n",
    "from PIL import Image\n",
    "import matplotlib.pyplot as plt\n",
    "\n",
    "import background_generation as backgen\n",
    "\n",
    "root_dir =\"/home/adriano/projeto_mestrado/modules\"\n",
    "\n",
    "img_dir = root_dir + '/Imagens/vessel_data/images'\n",
    "lab_dir = root_dir + '/Imagens/vessel_data/labels_20x'\n",
    "\n",
    "#Varrendo o diretório\n",
    "filenames = []\n",
    "for filename in os.listdir(img_dir):     \n",
    "    filenames.append(filename.split('.')[0])\n",
    "#filenames = filenames[:20]\n",
    "#for i in range(len(filenames)):\n",
    "for i in range(1):\n",
    "    img = np.array(Image.open(img_dir + f'/{filenames[i]}.tiff'))\n",
    "    label = np.array(Image.open(lab_dir + f'/{filenames[i]}.png'))\n",
    "    #Criando o Background\n",
    "    tracemalloc.start()\n",
    "    start_time = time.time()\n",
    "        \n",
    "    generated_background = backgen.estimate_background(img, label)\n",
    "    nome_background = f'{root_dir}/Background/Mapas_gerados_artificialmente/{filenames[i]}.png'\n",
    "    #plt.imsave(arquivo_min0max60, vessel_map.mapped_values, cmap='gray', vmin=0, vmax=60) \n",
    "    plt.imsave(nome_background, generated_background,cmap='gray') \n",
    "\n",
    "    end_time = time.time()\n",
    "    _, peak_memory = tracemalloc.get_traced_memory()\n",
    "    execution_time = end_time - start_time"
   ]
  }
 ],
 "metadata": {
  "kernelspec": {
   "display_name": "venv",
   "language": "python",
   "name": "python3"
  },
  "language_info": {
   "codemirror_mode": {
    "name": "ipython",
    "version": 3
   },
   "file_extension": ".py",
   "mimetype": "text/x-python",
   "name": "python",
   "nbconvert_exporter": "python",
   "pygments_lexer": "ipython3",
   "version": "3.8.10"
  },
  "orig_nbformat": 4
 },
 "nbformat": 4,
 "nbformat_minor": 2
}

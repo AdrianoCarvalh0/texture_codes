{
 "cells": [
  {
   "cell_type": "code",
   "execution_count": null,
   "metadata": {},
   "outputs": [],
   "source": [
    "import tracemalloc\n",
    "import background_generation as backgen\n",
    "import numpy as np\n",
    "import pickle\n",
    "from pathlib import Path\n",
    "from PIL import Image\n",
    "import sys\n",
    "from matplotlib import pyplot as plt\n",
    "\n",
    "import background_generation as backgen\n",
    "#windows\n",
    "sys.path.insert(0, r\"C:\\Users\\adria\\Documents\\Mestrado\\texture_codes\\modules\")\n",
    "root_dir = Path(r\"C:\\Users\\adria\\Documents\\Mestrado\\texture_codes\\modules\")\n",
    "\n",
    "#linux\n",
    "#sys.path.insert(0, \"/home/adriano/projeto_mestrado/modules/\")\n",
    "#root_dir = f\"/home/adriano/projeto_mestrado/modules\"\n",
    "\n",
    "if __name__ == '__main__':\n",
    "\n",
    "    #Aumentar o limiar para testar se fica compatível no máximo valor\n",
    "    #Gerar as curvas de bezier dentro do algoritmo - tamanho setado pelo cliente - distancia entre o ponto 1 e ponto 2, numero de pontos, max_vd, \n",
    "    parameters ={\n",
    "        'dir_maps_pickle': f'{root_dir}/Vessel_models_pickle/retina/1_map/pack10',  # directory of pickles        \n",
    "        'dir_mask': f'{root_dir}/Images/retina/mask',  # directory of pickles\n",
    "        'num_maps': 1,  # number of maps to be inserted\n",
    "        'num_images': 100, # number of images desired\n",
    "        'dir_backs': f'{root_dir}/Images/retina/backgrounds',  # background's directory\n",
    "        #'dir_images': f'{root_dir}/Images/retina/images_training',  # original images directory\n",
    "        #'dir_labels': f'{root_dir}/Images/retina/labels_training',  # label directory       \n",
    "        'generate_back': False,  # whether to generate background images       \n",
    "        'out_dir_images': f'{root_dir}/Training_validation_retina/Artificial_images/Generated_from_1_map/pack10/images',  # output directory of images\n",
    "        'out_dir_labels': f'{root_dir}/Training_validation_retina/Artificial_images/Generated_from_1_map/pack10/labels',  # output directory of labels\n",
    "        'min_number_vessels': 15,  # minimum number of vessels\n",
    "        'max_number_vessels': 30,  # maximum number of vessels\n",
    "        'threshold': 30,  # parameter that defines the threshold between the differences of the map background and the overall background\n",
    "        \n",
    "        # Bezier Curves parameters\n",
    "        'max_distance': 500,  # maximum distance where control points will be randomly drawn. Example: 1 generates straight lines.\n",
    "        'control_points': 6,  # number of control points between pe and ps. The higher this number, the more curves are generated.\n",
    "        'precision': 100,  # number of points generated\n",
    "        'number_cols': 900,  # maximum number of columns for the Bezier curve\n",
    "        'number_rows': 900,  # maximum number of rows for the Bezier curve\n",
    "        'number_points': 25,  # determine the number of random points to be generated\n",
    "        'min_len_trace': 400,  # minimum distance between the initial and final points\n",
    "        'max_len_trace': 900,  # maximum distance between the initial and final points\n",
    "        'padding': 50,  # padding used to ensure that the trace does not exceed the size of the background\n",
    "    }\n",
    "    backgen.generate_backgrounds_with_vessels_retina(parameters)"
   ]
  }
 ],
 "metadata": {
  "kernelspec": {
   "display_name": "Python 3",
   "language": "python",
   "name": "python3"
  },
  "language_info": {
   "codemirror_mode": {
    "name": "ipython",
    "version": 3
   },
   "file_extension": ".py",
   "mimetype": "text/x-python",
   "name": "python",
   "nbconvert_exporter": "python",
   "pygments_lexer": "ipython3",
   "version": "3.9.13"
  }
 },
 "nbformat": 4,
 "nbformat_minor": 2
}

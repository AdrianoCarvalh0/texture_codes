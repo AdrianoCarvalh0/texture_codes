{
 "cells": [
  {
   "cell_type": "code",
   "execution_count": null,
   "metadata": {},
   "outputs": [],
   "source": [
    "from pathlib import Path\n",
    "import pickle\n",
    "import numpy as np\n",
    "import sys\n",
    "from matplotlib import pyplot as plt\n",
    "\n",
    "#path linux\n",
    "#sys.path.insert(0, \"/home/adriano/projeto_mestrado/modules\")\n",
    "\n",
    "#path windows\n",
    "sys.path.insert(0, r\"C:\\Users\\adria\\Documents\\Mestrado\\texture_codes\\modules\")\n",
    "\n",
    "from Funcoes_gerais import funcoes\n",
    "\n",
    "\n",
    "root_dir = Path(r\"C:\\Users\\adria\\Documents\\Mestrado\\texture_codes\\modules\")\n",
    "img_dir = f'{root_dir}/Imagens/vessel_data/images'\n",
    "lab_dir = f'{root_dir}/Imagens/vessel_data/labels_20x'\n",
    "trein_dir = f'{root_dir}/Treinamento_validacao'\n",
    "\n",
    "pickle_dir = f'{root_dir}/Vessel_Models_pickle'\n",
    "\n",
    "pickle_dir_50 = f'{trein_dir}/Mapas/200_mapas_de_50_imagens'\n",
    "\n",
    "vetor_pickles = funcoes.ler_diretorios(pickle_dir_50)\n",
    "\n",
    "vetor_dict = []\n",
    "\n",
    "for i in range(len(vetor_pickles)):\n",
    "    \n",
    "    path_pickle = (pickle_dir_50 + f'/{vetor_pickles[i]}')\n",
    "    print(path_pickle)\n",
    "\n",
    "    arquivo_pickle = pickle.load(open(path_pickle, 'rb')) \n",
    "    vessel_map = arquivo_pickle['vessel_model'].vessel_map \n",
    "    mapa_original = vessel_map.mapped_values   \n",
    "    \n",
    "    linha_minima = (np.min(np.rint(vessel_map.path2_mapped))-1)\n",
    "    linha_maxima  = (np.max(np.rint(vessel_map.path1_mapped))+1)\n",
    "       \n",
    "    dict ={\n",
    "        'linha_minima':linha_minima,\n",
    "        'linha_maxima':linha_maxima,\n",
    "        'pickle': vetor_pickles[i],\n",
    "    }\n",
    "\n",
    "    vetor_dict.append(dict)\n",
    "\n",
    "\n",
    "    #print(f'linha minima: {linha_minima}')\n",
    "    #print(f'linha máxima: {linha_maxima}')"
   ]
  },
  {
   "cell_type": "code",
   "execution_count": 19,
   "metadata": {},
   "outputs": [
    {
     "name": "stdout",
     "output_type": "stream",
     "text": [
      "{'linha_minima': nan, 'linha_maxima': 19.0, 'pickle': 'Experiment #1 (adults set #1)_20x_batch1 - Superfical layers@74-Image 3-20X_savedata0.pickle'}\n",
      "{'linha_minima': nan, 'linha_maxima': 21.0, 'pickle': 'T-3 Weeks@Females@926 F@926-CTL-middle-20X-02_savedata0.pickle'}\n"
     ]
    }
   ],
   "source": [
    "for vetor in vetor_dict:\n",
    "     if np.isnan(vetor['linha_minima']):\n",
    "        print(vetor)"
   ]
  },
  {
   "cell_type": "code",
   "execution_count": 21,
   "metadata": {},
   "outputs": [],
   "source": [
    "for vetor in vetor_dict:\n",
    "     if np.isnan(vetor['linha_maxima']):\n",
    "        print(vetor)"
   ]
  }
 ],
 "metadata": {
  "kernelspec": {
   "display_name": "Python 3",
   "language": "python",
   "name": "python3"
  },
  "language_info": {
   "codemirror_mode": {
    "name": "ipython",
    "version": 3
   },
   "file_extension": ".py",
   "mimetype": "text/x-python",
   "name": "python",
   "nbconvert_exporter": "python",
   "pygments_lexer": "ipython3",
   "version": "3.12.0"
  }
 },
 "nbformat": 4,
 "nbformat_minor": 2
}

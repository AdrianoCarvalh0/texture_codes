{
 "cells": [
  {
   "cell_type": "code",
   "execution_count": 2,
   "metadata": {},
   "outputs": [
    {
     "name": "stdout",
     "output_type": "stream",
     "text": [
      "colunas ou linhas maiores que o fundo\n",
      "1\n",
      "colunas ou linhas maiores que o fundo\n",
      "2\n",
      "colunas ou linhas maiores que o fundo\n",
      "3\n",
      "colunas ou linhas maiores que o fundo\n",
      "4\n",
      "colunas ou linhas maiores que o fundo\n",
      "5\n",
      "colunas ou linhas maiores que o fundo\n",
      "6\n",
      "colunas ou linhas maiores que o fundo\n",
      "7\n",
      "colunas ou linhas maiores que o fundo\n",
      "8\n",
      "colunas ou linhas maiores que o fundo\n",
      "9\n",
      "colunas ou linhas maiores que o fundo\n",
      "10\n",
      "colunas ou linhas maiores que o fundo\n",
      "11\n",
      "colunas ou linhas maiores que o fundo\n",
      "12\n"
     ]
    },
    {
     "ename": "ValueError",
     "evalue": "too many values to unpack (expected 2)",
     "output_type": "error",
     "traceback": [
      "\u001b[1;31m---------------------------------------------------------------------------\u001b[0m",
      "\u001b[1;31mValueError\u001b[0m                                Traceback (most recent call last)",
      "Cell \u001b[1;32mIn[2], line 49\u001b[0m\n\u001b[0;32m     19\u001b[0m \u001b[38;5;28;01mif\u001b[39;00m \u001b[38;5;18m__name__\u001b[39m \u001b[38;5;241m==\u001b[39m \u001b[38;5;124m'\u001b[39m\u001b[38;5;124m__main__\u001b[39m\u001b[38;5;124m'\u001b[39m:\n\u001b[0;32m     20\u001b[0m \n\u001b[0;32m     21\u001b[0m     \u001b[38;5;66;03m#Aumentar o limiar para testar se fica compatível no máximo valor\u001b[39;00m\n\u001b[0;32m     22\u001b[0m     \u001b[38;5;66;03m#Gerar as curvas de bezier dentro do algoritmo - tamanho setado pelo cliente - distancia entre o ponto 1 e ponto 2, numero de pontos, max_vd, \u001b[39;00m\n\u001b[0;32m     23\u001b[0m     parameters \u001b[38;5;241m=\u001b[39m{\n\u001b[0;32m     24\u001b[0m         \u001b[38;5;124m'\u001b[39m\u001b[38;5;124mdir_maps_pickle\u001b[39m\u001b[38;5;124m'\u001b[39m: \u001b[38;5;124mf\u001b[39m\u001b[38;5;124m'\u001b[39m\u001b[38;5;132;01m{\u001b[39;00mroot_dir\u001b[38;5;132;01m}\u001b[39;00m\u001b[38;5;124m/Vessel_models_pickle/retina/10_maps\u001b[39m\u001b[38;5;124m'\u001b[39m,  \u001b[38;5;66;03m# directory of pickles        \u001b[39;00m\n\u001b[0;32m     25\u001b[0m         \u001b[38;5;124m'\u001b[39m\u001b[38;5;124mdir_mask\u001b[39m\u001b[38;5;124m'\u001b[39m: \u001b[38;5;124mf\u001b[39m\u001b[38;5;124m'\u001b[39m\u001b[38;5;132;01m{\u001b[39;00mroot_dir\u001b[38;5;132;01m}\u001b[39;00m\u001b[38;5;124m/Images/retina/mask\u001b[39m\u001b[38;5;124m'\u001b[39m,  \u001b[38;5;66;03m# directory of pickles\u001b[39;00m\n\u001b[1;32m   (...)\u001b[0m\n\u001b[0;32m     47\u001b[0m         \u001b[38;5;124m'\u001b[39m\u001b[38;5;124mpadding\u001b[39m\u001b[38;5;124m'\u001b[39m: \u001b[38;5;241m50\u001b[39m,  \u001b[38;5;66;03m# padding used to ensure that the trace does not exceed the size of the background\u001b[39;00m\n\u001b[0;32m     48\u001b[0m     }\n\u001b[1;32m---> 49\u001b[0m     \u001b[43mbackgen\u001b[49m\u001b[38;5;241;43m.\u001b[39;49m\u001b[43mgenerate_backgrounds_with_vessels_retina\u001b[49m\u001b[43m(\u001b[49m\u001b[43mparameters\u001b[49m\u001b[43m)\u001b[49m\n",
      "File \u001b[1;32mc:\\Users\\adria\\Documents\\Mestrado\\texture_codes\\modules\\Background\\background_generation.py:1267\u001b[0m, in \u001b[0;36mgenerate_backgrounds_with_vessels_retina\u001b[1;34m(params)\u001b[0m\n\u001b[0;32m   1265\u001b[0m points, distance \u001b[38;5;241m=\u001b[39m create_points(number_points, padding, number_rows, number_cols, min_len_trace, max_len_trace)\n\u001b[0;32m   1266\u001b[0m curve \u001b[38;5;241m=\u001b[39m create_curve(points, max_distance, control_points, precision)         \n\u001b[1;32m-> 1267\u001b[0m results \u001b[38;5;241m=\u001b[39m \u001b[43minsert_vessels_retina\u001b[49m\u001b[43m(\u001b[49m\u001b[43mcurve\u001b[49m\u001b[43m,\u001b[49m\u001b[43m \u001b[49m\u001b[43mdistance\u001b[49m\u001b[43m,\u001b[49m\u001b[43m \u001b[49m\u001b[43marray_maps_pickle\u001b[49m\u001b[43m,\u001b[49m\u001b[43mdir_maps_pickle\u001b[49m\u001b[43m,\u001b[49m\u001b[43mbackground\u001b[49m\u001b[43m,\u001b[49m\u001b[43mthreshold\u001b[49m\u001b[43m,\u001b[49m\u001b[43mpath_pickle\u001b[49m\u001b[43m)\u001b[49m           \n\u001b[0;32m   1268\u001b[0m \u001b[38;5;28;01mif\u001b[39;00m results \u001b[38;5;129;01mis\u001b[39;00m \u001b[38;5;129;01mnot\u001b[39;00m \u001b[38;5;28;01mNone\u001b[39;00m:\n\u001b[0;32m   1269\u001b[0m     vessel_without_artifacts, map_without_artifacts, mask_map, threshold \u001b[38;5;241m=\u001b[39m results  \n",
      "File \u001b[1;32mc:\\Users\\adria\\Documents\\Mestrado\\texture_codes\\modules\\Background\\background_generation.py:905\u001b[0m, in \u001b[0;36minsert_vessels_retina\u001b[1;34m(medial_path_array, distance, pickles_array, pickle_dir, back_artifact, threshold, path_pickle)\u001b[0m\n\u001b[0;32m    901\u001b[0m rows_art, cols_art \u001b[38;5;241m=\u001b[39m map_without_artifacts\u001b[38;5;241m.\u001b[39mshape\n\u001b[0;32m    903\u001b[0m \u001b[38;5;66;03m#background_with_pad = np.pad(back_artifact, ((300,300),(300,300)), mode=\"symmetric\", reflect_type=\"even\")    \u001b[39;00m\n\u001b[1;32m--> 905\u001b[0m rows_back, cols_back \u001b[38;5;241m=\u001b[39mback_artifact\u001b[38;5;241m.\u001b[39mshape \u001b[38;5;66;03m#962,962\u001b[39;00m\n\u001b[0;32m    907\u001b[0m \u001b[38;5;28;01mif\u001b[39;00m rows_art \u001b[38;5;241m>\u001b[39m\u001b[38;5;241m=\u001b[39m rows_back \u001b[38;5;129;01mor\u001b[39;00m cols_art \u001b[38;5;241m>\u001b[39m\u001b[38;5;241m=\u001b[39m cols_back:\n\u001b[0;32m    908\u001b[0m     \u001b[38;5;28mprint\u001b[39m(\u001b[38;5;124mf\u001b[39m\u001b[38;5;124m\"\u001b[39m\u001b[38;5;124mcolunas ou linhas maiores que o fundo\u001b[39m\u001b[38;5;124m\"\u001b[39m)\n",
      "\u001b[1;31mValueError\u001b[0m: too many values to unpack (expected 2)"
     ]
    }
   ],
   "source": [
    "import tracemalloc\n",
    "import background_generation as backgen\n",
    "import numpy as np\n",
    "import pickle\n",
    "from pathlib import Path\n",
    "from PIL import Image\n",
    "import sys\n",
    "from matplotlib import pyplot as plt\n",
    "\n",
    "import background_generation as backgen\n",
    "#windows\n",
    "sys.path.insert(0, r\"C:\\Users\\adria\\Documents\\Mestrado\\texture_codes\\modules\")\n",
    "root_dir = Path(r\"C:\\Users\\adria\\Documents\\Mestrado\\texture_codes\\modules\")\n",
    "\n",
    "#linux\n",
    "#sys.path.insert(0, \"/home/adriano/projeto_mestrado/modules/\")\n",
    "#root_dir = f\"/home/adriano/projeto_mestrado/modules\"\n",
    "\n",
    "if __name__ == '__main__':\n",
    "\n",
    "    #Aumentar o limiar para testar se fica compatível no máximo valor\n",
    "    #Gerar as curvas de bezier dentro do algoritmo - tamanho setado pelo cliente - distancia entre o ponto 1 e ponto 2, numero de pontos, max_vd, \n",
    "    parameters ={\n",
    "        'dir_maps_pickle': f'{root_dir}/Vessel_models_pickle/retina/10_maps',  # directory of pickles        \n",
    "        'dir_mask': f'{root_dir}/Images/retina/mask',  # directory of pickles\n",
    "        'num_maps': 10,  # number of maps to be inserted\n",
    "        'num_images': 94, # number of images desired\n",
    "        'dir_backs': f'{root_dir}/Images/retina/backgrounds',  # background's directory\n",
    "        #'dir_images': f'{root_dir}/Images/retina/images_training',  # original images directory\n",
    "        #'dir_labels': f'{root_dir}/Images/retina/labels_training',  # label directory       \n",
    "        'generate_back': False,  # whether to generate background images       \n",
    "        'out_dir_images': f'{root_dir}/Training_validation_retina/Artificial_images/Generated_from_10_maps/pack2/images',  # output directory of images\n",
    "        'out_dir_labels': f'{root_dir}/Training_validation_retina/Artificial_images/Generated_from_10_maps/pack2/labels',  # output directory of labels\n",
    "        'min_number_vessels': 15,  # minimum number of vessels\n",
    "        'max_number_vessels': 30,  # maximum number of vessels\n",
    "        'threshold': 30,  # parameter that defines the threshold between the differences of the map background and the overall background\n",
    "        \n",
    "        # Bezier Curves parameters\n",
    "        'max_distance': 500,  # maximum distance where control points will be randomly drawn. Example: 1 generates straight lines.\n",
    "        'control_points': 6,  # number of control points between pe and ps. The higher this number, the more curves are generated.\n",
    "        'precision': 100,  # number of points generated\n",
    "        'number_cols': 900,  # maximum number of columns for the Bezier curve\n",
    "        'number_rows': 900,  # maximum number of rows for the Bezier curve\n",
    "        'number_points': 25,  # determine the number of random points to be generated\n",
    "        'min_len_trace': 400,  # minimum distance between the initial and final points\n",
    "        'max_len_trace': 900,  # maximum distance between the initial and final points\n",
    "        'padding': 50,  # padding used to ensure that the trace does not exceed the size of the background\n",
    "    }\n",
    "    backgen.generate_backgrounds_with_vessels_retina(parameters)"
   ]
  }
 ],
 "metadata": {
  "kernelspec": {
   "display_name": "Python 3",
   "language": "python",
   "name": "python3"
  },
  "language_info": {
   "codemirror_mode": {
    "name": "ipython",
    "version": 3
   },
   "file_extension": ".py",
   "mimetype": "text/x-python",
   "name": "python",
   "nbconvert_exporter": "python",
   "pygments_lexer": "ipython3",
   "version": "3.9.13"
  }
 },
 "nbformat": 4,
 "nbformat_minor": 2
}

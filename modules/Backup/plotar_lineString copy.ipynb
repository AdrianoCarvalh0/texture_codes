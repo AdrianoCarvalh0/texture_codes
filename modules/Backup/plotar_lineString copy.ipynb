{
 "cells": [
  {
   "cell_type": "code",
   "execution_count": null,
   "metadata": {},
   "outputs": [],
   "source": [
    "import pickle, os\n",
    "import numpy as np\n",
    "import sys\n",
    "import skimage as ski\n",
    "from pathlib import Path\n",
    "from PIL import Image\n",
    "\n",
    "from matplotlib import pyplot as plt\n",
    "\n",
    "sys.path.insert(0, \"/home/adriano/projeto_mestrado/modules/\")\n",
    "\n",
    "import geopandas as gpd\n",
    "import background_generation as backgen\n",
    "\n",
    "sys.path.insert(0, r\"C:\\Users\\adria\\Documents\\Mestrado\\texture_codes\\modules\")\n",
    "\n",
    "from Funcoes_gerais import funcoes\n",
    "\n",
    "#root_dir = f\"/home/adriano/projeto_mestrado/modules\"\n",
    "root_dir = Path(r\"C:\\Users\\adria\\Documents\\Mestrado\\texture_codes\\modules\")\n",
    "\n",
    "#dir linux\n",
    "#root_dir =\"/home/adriano/projeto_mestrado/modules\"\n",
    "\n",
    "img_dir = f'{root_dir}/Imagens/vessel_data/images'\n",
    "imag = 'Experiment #1 (adults set #1)_20x_batch1 - Superfical layers@40-Image 3-20X'\n",
    "back_path = 'T-3 Weeks@Females@919 F@919-CTL-top-20X-01'\n",
    "\n",
    "idx = 1\n",
    "pickle_dir = f'{root_dir}/Vessel_Models_pickle'\n",
    "path = (pickle_dir + f'/{imag}_savedata1.pickle')\n",
    "arquivo = pickle.load(open(path, 'rb'))\n",
    "vessel_map = arquivo['vessel_model'].vessel_map\n",
    "mapa_original = vessel_map.mapped_values\n",
    "\n",
    "rows, cols = mapa_original.shape[0], mapa_original.shape[1]\n",
    "\n",
    "altura = (rows/2) \n",
    "\n",
    "arquivo = f'{root_dir}/Artificial_Lines/tracados_bezier_maiores/img_savedata_13.json'\n",
    "\n",
    "background_path = f'{root_dir}/Background/Mapas_gerados_artificialmente/{back_path}.tiff'\n",
    "background = np.array(Image.open(f'{background_path}'))\n",
    "\n",
    "medial_path = backgen.retorna_paths(arquivo)   \n",
    "\n",
    "mapa_expandido_original = backgen.expandir_mapas_do_tamanho_do_tracado(mapa_original,medial_path[1])\n",
    "\n",
    "imagem_binaria_original = vessel_map.mapped_mask_values \n",
    "imagem_binaria_sem_artefatos_laterais = backgen.retornar_imagem_binaria_sem_artefatos(vessel_map, imagem_binaria_original) \n",
    "\n",
    "  \n",
    "imagem_binaria_sem_artefatos = backgen.fill_holes(imagem_binaria_sem_artefatos_laterais) \n",
    "  \n",
    "mapa_original_norm = backgen.normaliza(background,mapa_original,imagem_binaria_sem_artefatos,treshold=40)\n",
    "\n",
    "distancia = int(medial_path[1])\n",
    "\n",
    "vaso_expandido_bin = backgen.expandir_mapas_do_tamanho_do_tracado(imagem_binaria_sem_artefatos,distancia)       \n",
    "    \n",
    "linha_offset_esquerda, linha_central, linha_offset_direita, maior_tamanho = backgen.retorna_linhas_offset_posicao_tamanho(medial_path[0],altura)  \n",
    "\n",
    "#Criação das linhas à direita, centro e à esquerda a partir do traçado originado pelas curvas de beizier\n",
    "dst_array_np = backgen.retorna_dst_array_np(linha_offset_esquerda, linha_central,linha_offset_direita, maior_tamanho)\n",
    "\n",
    "#Execução do algoritmo que faz a transformação do mapa expandido\n",
    "img_proper, img_out, new_src, new_dst, tform_out, translation, new_origin = backgen.rotacionando_mapa_expandido(mapa_expandido_original,dst_array_np,maior_tamanho)\n",
    "\n",
    "tri = tform_out._tesselation \n",
    "tri_inv = tform_out._inverse_tesselation \n",
    "backgen.delaunay_plot(img_proper, img_out, tri, tri_inv)\n",
    "\n",
    "mask_map = backgen.criar_mascara_binaria_mapa(new_dst,img_out)\n",
    "  \n",
    "#Máscara do vaso\n",
    "mask_vaso = backgen.criar_mascara_binaria_vaso(vessel_map,new_origin,medial_path[0],img_out)   \n",
    "\n",
    "#Vaso binário rotacionado - NÃO ESTAVA SENDO USADO\n",
    "#vaso_binario_rotacionado = criar_vaso_binario_expandido(vaso_expandido_bin,dst_array_np,maior_tamanho)   \n",
    "\n",
    "#Mapa sem artefatos\n",
    "mapa_sem_artefatos = backgen.retirar_artefatos(img_out,mask_map)\n",
    "\n",
    "rows_art, cols_art = mapa_sem_artefatos.shape\n",
    "\n",
    "#Vaso binário expandido e rotacionado VER AQUI\n",
    "img_out_bin = backgen.criar_vaso_binario_expandido(vaso_expandido_bin,dst_array_np,maior_tamanho)\n",
    "\n",
    "#Vaso binário rotacionado sem artefatos\n",
    "vaso_sem_artefatos = backgen.retirar_artefatos(img_out_bin,mask_vaso)  \n",
    "\n",
    "#mapa_sem_artefatos_transf = backgen.transf_map_dist2(mapa_sem_artefatos,mask_map,vaso_sem_artefatos,background)\n",
    "\n",
    "\n",
    "plt.figure(figsize=[30, 20])\n",
    "#plt.title(\"Mapa original\")\n",
    "plt.imshow(mask_map, 'gray', vmin=0, vmax=1)\n",
    "plt.savefig('mask_map.tiff')\n",
    "plt.plot()\n",
    "\n",
    "plt.figure(figsize=[100, 40])\n",
    "#plt.title(\"Mapa original\")\n",
    "plt.imshow(vaso_expandido_bin, 'gray', vmin=0, vmax=1)\n",
    "plt.savefig('vaso_expandido_bin.tiff')\n",
    "plt.plot()\n",
    "\n",
    "plt.figure(figsize=[30, 20])\n",
    "#plt.title(\"Mapa original\")\n",
    "plt.imshow(vaso_sem_artefatos, 'gray', vmin=0, vmax=1)\n",
    "plt.savefig('vaso_sem_artefatos.tiff')\n",
    "plt.plot()\n",
    "\n",
    "\n",
    "plt.figure(figsize=[30, 20])\n",
    "#plt.title(\"Mapa original\")\n",
    "plt.imshow(mapa_original, 'gray', vmin=0, vmax=127)\n",
    "plt.savefig('mapa_original.tiff')\n",
    "plt.plot()\n",
    "\n",
    "plt.figure(figsize=[100, 40])\n",
    "plt.title(\"Mapa original\")\n",
    "plt.imshow(mapa_expandido_original, 'gray', vmin=0, vmax=127)\n",
    "plt.savefig('img_expandida.tiff')\n",
    "plt.plot()\n",
    "\n",
    "\n",
    "\n",
    "\n",
    "#img1 = Image.fromarray(mapa_original.astype(np.uint8))\n",
    "#path = f'img.tiff'\n",
    "#img = img1.save(path)\n"
   ]
  },
  {
   "cell_type": "code",
   "execution_count": null,
   "metadata": {},
   "outputs": [],
   "source": [
    "plt.figure(figsize=[30, 20],facecolor='white')\n",
    "#plt.title(\"Mapa original\")\n",
    "plt.imshow(mapa_sem_artefatos, 'gray', vmin=0, vmax=127)\n",
    "plt.savefig('mapa_sem_artefatos.tiff')\n",
    "plt.plot()  "
   ]
  },
  {
   "cell_type": "markdown",
   "metadata": {},
   "source": [
    "### Fundo artificial"
   ]
  },
  {
   "cell_type": "code",
   "execution_count": null,
   "metadata": {},
   "outputs": [],
   "source": [
    "plt.figure(figsize=[30, 20],facecolor='white')\n",
    "#plt.title(\"Mapa original\")\n",
    "plt.imshow(background, 'gray', vmin=0, vmax=127)\n",
    "plt.savefig('background.tiff')\n",
    "plt.plot()  "
   ]
  },
  {
   "cell_type": "markdown",
   "metadata": {},
   "source": [
    "### Normalizada"
   ]
  },
  {
   "cell_type": "code",
   "execution_count": null,
   "metadata": {},
   "outputs": [],
   "source": [
    "plt.figure(figsize=[30, 20],facecolor='white')\n",
    "#plt.title(\"Mapa original\")\n",
    "plt.imshow(mapa_original_norm, 'gray', vmin=0, vmax=155)\n",
    "plt.savefig('mapa_original_norm.tiff')\n",
    "plt.plot()  "
   ]
  },
  {
   "cell_type": "markdown",
   "metadata": {},
   "source": [
    "### Vaso com artefatos"
   ]
  },
  {
   "cell_type": "code",
   "execution_count": null,
   "metadata": {},
   "outputs": [],
   "source": [
    "plt.figure(figsize=[20, 10],facecolor='white')\n",
    "#plt.title(\"Mapa original\")\n",
    "plt.imshow(img_out, 'gray', vmin=0, vmax=127)\n",
    "plt.savefig('img_out.tiff')\n",
    "plt.plot()  "
   ]
  },
  {
   "cell_type": "markdown",
   "metadata": {},
   "source": [
    "### Inserção"
   ]
  },
  {
   "cell_type": "code",
   "execution_count": null,
   "metadata": {},
   "outputs": [],
   "source": [
    "import sys\n",
    "sys.path.insert(0, r\"C:\\Users\\adria\\Documents\\Mestrado\\texture_codes\\modules\")\n",
    "\n",
    "from Funcoes_gerais import funcoes\n",
    "\n",
    "vetor_pickles = funcoes.ler_diretorios(pickle_dir)\n",
    "\n",
    "background_recortado = background[0:1100,0:1370]\n",
    "background_com_pad = np.pad(background_recortado, ((200,200),(200,200)), mode=\"symmetric\", reflect_type=\"even\")    \n",
    "background_bin = np.zeros(background_com_pad.shape)\n",
    "fundo_com_vasos2 = background_bin.copy()\n",
    "fundo_com_vasos = background_com_pad.copy()    \n",
    "possui_mapas =  np.full(shape = background_com_pad.shape, fill_value=0)\n",
    "possui_mapas2 =  np.full(shape = background_bin.shape, fill_value=0)\n",
    "\n",
    "n_vasos = np.random.randint(20, 50) \n",
    "\n",
    "contador = 0\n",
    "while contador < 1:       \n",
    "    \n",
    "    resultados = backgen.inserir_vasos(medial_path[0],medial_path[1],vetor_pickles,pickle_dir,background_com_pad,treshold=40, path_pickle=path)       \n",
    "    if resultados is not None:\n",
    "        vaso_sem_artefatos,mapa_sem_artefatos,mask_map, limiar1 = resultados        \n",
    "        \n",
    "        fundo_com_vasos = backgen.inserir_mapa(fundo_com_vasos,vaso_sem_artefatos,mapa_sem_artefatos,mask_map, limiar1, possui_mapas)           \n",
    "\n",
    "        fundo_com_vasos2 = backgen.inserir_mapa_bin(fundo_com_vasos2,vaso_sem_artefatos,possui_mapas2)\n",
    "        contador +=1\n",
    "        print(contador)\n",
    "   \n",
    "  \n",
    "    # plt.figure(figsize=[10, 8])\n",
    "    # plt.title(\"fundo_com_vasos\")\n",
    "    # plt.imshow(fundo_com_vasos, 'gray', vmin=0, vmax=255)\n",
    "    # plt.plot()\n",
    "    fundo_recortado = fundo_com_vasos[200:1304,200:1576]\n",
    "    fundo_recortado2 = fundo_com_vasos2[200:1304,200:1576]"
   ]
  },
  {
   "cell_type": "code",
   "execution_count": null,
   "metadata": {},
   "outputs": [],
   "source": [
    "plt.figure(figsize=[40, 20],facecolor='white')\n",
    "#plt.title(\"Mapa original\")\n",
    "plt.imshow(fundo_recortado, 'gray', vmin=0, vmax=127)\n",
    "plt.savefig('fundo_recortado.tiff')\n",
    "plt.plot()  \n",
    "\n",
    "plt.figure(figsize=[40, 20],facecolor='white')\n",
    "#plt.title(\"Mapa original\")\n",
    "plt.imshow(fundo_recortado2, 'gray', vmin=0, vmax=1)\n",
    "plt.savefig('fundo_recortado2.tiff')\n",
    "plt.plot()  \n",
    "\n",
    "\n",
    "plt.figure(figsize=[40, 20],facecolor='white')\n",
    "#plt.title(\"Mapa original\")\n",
    "plt.imshow(fundo_com_vasos, 'gray', vmin=0, vmax=127)\n",
    "plt.savefig('fundo_com_vasos.tiff')\n",
    "plt.plot()  \n",
    "\n",
    "plt.figure(figsize=[40, 20],facecolor='white')\n",
    "#plt.title(\"Mapa original\")\n",
    "plt.imshow(fundo_com_vasos2, 'gray', vmin=0, vmax=1)\n",
    "plt.savefig('fundo_com_vasos2.tiff')\n",
    "plt.plot()  \n",
    "\n"
   ]
  },
  {
   "attachments": {},
   "cell_type": "markdown",
   "metadata": {},
   "source": [
    "### Plotando os pontos"
   ]
  },
  {
   "cell_type": "code",
   "execution_count": null,
   "metadata": {},
   "outputs": [],
   "source": [
    "pontos_x = caminhos_transladados_interpolado[0][:,0]\n",
    "pontos_y = caminhos_transladados_interpolado[0][:,1]\n",
    "backgen.plotar_pontos(pontos_x, pontos_y, 'Caminhos transladados Interpolados' )"
   ]
  },
  {
   "attachments": {},
   "cell_type": "markdown",
   "metadata": {},
   "source": [
    "### Exibição do mapa normal\n"
   ]
  },
  {
   "cell_type": "code",
   "execution_count": null,
   "metadata": {},
   "outputs": [],
   "source": [
    "import numpy as np\n",
    "\n",
    "mapa = np.array(mapa_original)\n",
    "\n",
    "rows, cols = mapa.shape[0], mapa.shape[1]\n",
    "\n",
    "src_cols = np.linspace(0, cols, maior_tamanho)\n",
    "src_rows = np.linspace(-1, rows, 3)\n",
    "src_cols, src_rows = np.meshgrid(src_cols,src_rows)\n",
    "src = np.dstack([src_cols.flat, src_rows.flat])[0]\n",
    "\n",
    "dst_array_np = backgen.retorna_dst_array_np(linha_central,linha_offset_esquerda,linha_offset_direita, maior_tamanho)\n",
    "\n",
    "img_proper, img_out, new_src, new_dst, tform, _, _= backgen.transform_v2(src, dst_array_np, mapa)\n",
    "backgen.plot(img_proper, img_out, new_src, new_dst, 60)"
   ]
  },
  {
   "attachments": {},
   "cell_type": "markdown",
   "metadata": {},
   "source": [
    "### Lendo o pickle e gerando o vessel_map e a imagem binária sem artefatos"
   ]
  },
  {
   "cell_type": "code",
   "execution_count": null,
   "metadata": {},
   "outputs": [],
   "source": [
    "#import cv2\n",
    "from PIL import Image\n",
    "import matplotlib.pyplot as plt\n",
    "\n",
    "img = np.array(Image.open(img_dir + f'/{imag}.tiff'))\n",
    "\n",
    "path = (pickle_dir + f'/{imag}_savedata1.pickle')\n",
    "\n",
    "arquivo = pickle.load(open(path, 'rb'))\n",
    "\n",
    "vessel_map = arquivo['vessel_model'].vessel_map\n",
    "\n",
    "mapa_original = vessel_map.mapped_values\n",
    "\n",
    "\n",
    "imagem_binaria_original = vessel_map.mapped_mask_values\n",
    "\n",
    "imagem_binaria_sem_artefatos_laterais = backgen.retornar_imagem_binaria_sem_artefatos(vessel_map, imagem_binaria_original)\n",
    "\n",
    "imagem_binaria_sem_artefatos = backgen.fill_holes(imagem_binaria_sem_artefatos_laterais)\n",
    "\n",
    "\n",
    "plt.figure(figsize=[10, 8])\n",
    "plt.title(\"Imagem binária sem artefatos\")\n",
    "plt.imshow(imagem_binaria_sem_artefatos, 'gray', vmin=0, vmax=1)\n",
    "plt.plot()"
   ]
  },
  {
   "attachments": {},
   "cell_type": "markdown",
   "metadata": {},
   "source": [
    "### Expandir mapas"
   ]
  },
  {
   "cell_type": "code",
   "execution_count": null,
   "metadata": {},
   "outputs": [],
   "source": [
    "maior_valor_interpolado = np.max(caminhos_transladados_interpolado[0])\n",
    "mapa_expandido_original = backgen.expandir_mapas_do_tamanho_do_tracado(mapa_original,maior_valor_interpolado)\n",
    "mapa_expandido_bin = backgen.expandir_mapas_do_tamanho_do_tracado(imagem_binaria_sem_artefatos,maior_valor_interpolado)\n",
    "mask_mapa_expandido_bin = np.ones(mapa_expandido_bin.shape)"
   ]
  },
  {
   "attachments": {},
   "cell_type": "markdown",
   "metadata": {},
   "source": [
    "### Exibindo o Mapa Aumentado"
   ]
  },
  {
   "cell_type": "code",
   "execution_count": null,
   "metadata": {},
   "outputs": [],
   "source": [
    "plt.figure(figsize=[10, 8])\n",
    "plt.title(\"Mapa aumentado\")\n",
    "plt.imshow(mapa_expandido_original, 'gray', vmin=0, vmax=60)\n",
    "plt.plot()\n",
    "plt.figure(figsize=[10, 8])\n",
    "plt.title(\"Mapa binário aumentado\")\n",
    "plt.imshow(mapa_expandido_bin, 'gray', vmin=0, vmax=1)\n",
    "plt.plot()\n",
    "plt.figure(figsize=[10, 8])\n",
    "plt.title(\"map_mask_transf\")\n",
    "plt.imshow(mask_mapa_expandido_bin, 'gray', vmin=0, vmax=1)\n",
    "plt.plot()"
   ]
  },
  {
   "attachments": {},
   "cell_type": "markdown",
   "metadata": {},
   "source": [
    "### Execução do Algoritmo com o Mapa Expandido"
   ]
  },
  {
   "cell_type": "code",
   "execution_count": null,
   "metadata": {},
   "outputs": [],
   "source": [
    "rows, cols = mapa_expandido_original.shape[0], mapa_expandido_original.shape[1]\n",
    "\n",
    "src_cols = np.linspace(0, cols, maior_tamanho)\n",
    "src_rows = np.linspace(-1, rows, 3)\n",
    "src_cols, src_rows = np.meshgrid(src_cols,src_rows)\n",
    "src = np.dstack([src_cols.flat, src_rows.flat])[0]\n",
    "\n",
    "\n",
    "img_proper, img_out, new_src, new_dst, tform_out, translation, new_origin = backgen.transform_v2(src, dst_array_np, mapa_expandido_original)\n",
    "backgen.plot(img_proper, img_out, new_src, new_dst,vmax=60)"
   ]
  },
  {
   "cell_type": "markdown",
   "metadata": {},
   "source": [
    "### Criação da mask binária do mapa"
   ]
  },
  {
   "cell_type": "code",
   "execution_count": null,
   "metadata": {},
   "outputs": [],
   "source": [
    "tam = len(new_dst)\n",
    "\n",
    "div = tam//3\n",
    "\n",
    "vetor_div =[div,div*2,div*3]\n",
    "\n",
    "parte_direita = new_dst[0:vetor_div[0]]\n",
    "parte_centro = new_dst[vetor_div[0]:vetor_div[1]]\n",
    "parte_esquerda = new_dst[vetor_div[1]:vetor_div[2]]\n",
    "\n",
    "lista_somada = np.concatenate((parte_esquerda, parte_direita[::-1]))\n",
    "polygon = np.array(lista_somada)[:,::-1]\n",
    "mask_map = ski.draw.polygon2mask(img_out.shape, polygon)\n",
    "mask_map.astype(int)\n",
    "mask_map_sq = mask_map.squeeze()\n",
    "#mask_inv = mask[::-1]\n",
    "\n",
    "# plt.imshow(mask, 'gray')\n",
    "# mask_pil = Image.fromarray(mask.astype(np.uint8))\n",
    "# mask_pil.save(\"imagem.tiff\")"
   ]
  },
  {
   "cell_type": "markdown",
   "metadata": {},
   "source": [
    "### Criação da máscara do vaso"
   ]
  },
  {
   "cell_type": "code",
   "execution_count": null,
   "metadata": {},
   "outputs": [],
   "source": [
    "linha_minima = int(np.min(np.rint(vessel_map.path2_mapped)))\n",
    "linha_maxima  = int(np.max(np.rint(vessel_map.path1_mapped)))\n",
    "\n",
    "diametro_maximo_vaso = (linha_maxima-linha_minima)/2\n",
    "\n",
    "linha_mask_central,linha_mask_esquerda,linha_mask_direita, max_tam = backgen.retorna_linhas_offset_posicao_tamanho(caminhos_transladados_interpolado[0],diametro_maximo_vaso)\n",
    "\n",
    "dst_mask_np = backgen.retorna_dst_array_np(linha_mask_central,linha_mask_esquerda,linha_mask_direita, max_tam)\n",
    "\n",
    "rows_bin, cols_bin = mapa_expandido_original.shape[0], mapa_expandido_original.shape[1]\n",
    "\n",
    "src_cols_bin = np.linspace(0, cols_bin, max_tam)\n",
    "src_rows_bin = np.linspace(0, rows_bin, 3)\n",
    "src_cols_bin, src_rows_bin = np.meshgrid(src_cols_bin,src_rows_bin)\n",
    "src_bin = np.dstack([src_cols_bin.flat, src_rows_bin.flat])[0]\n",
    "\n",
    "\n",
    "dst_mask_np -= new_origin\n",
    "\n",
    "tam = len(dst_mask_np)\n",
    "\n",
    "div = tam//3\n",
    "\n",
    "vetor_div =[div,div*2,div*3]\n",
    "\n",
    "parte_direita = dst_mask_np[0:vetor_div[0]]\n",
    "parte_centro = dst_mask_np[vetor_div[0]:vetor_div[1]] \n",
    "parte_esquerda = dst_mask_np[vetor_div[1]:vetor_div[2]] \n",
    "\n",
    "lista_somada = np.concatenate((parte_esquerda, parte_direita[::-1]))\n",
    "polygon = np.array(lista_somada)[:,::-1]\n",
    "mask_vessel = ski.draw.polygon2mask(img_out.shape, polygon) # type: ignore\n",
    "mask_vessel.astype(int)\n",
    "mask_vessel_sq = mask_vessel.squeeze()"
   ]
  },
  {
   "cell_type": "code",
   "execution_count": null,
   "metadata": {},
   "outputs": [],
   "source": [
    "plt.imshow(mask_vessel_sq, 'gray')"
   ]
  },
  {
   "attachments": {},
   "cell_type": "markdown",
   "metadata": {},
   "source": [
    "### Execução do Algoritmo com o Mapa Expandido - Binário"
   ]
  },
  {
   "cell_type": "code",
   "execution_count": null,
   "metadata": {},
   "outputs": [],
   "source": [
    "rows_bin, cols_bin = mapa_expandido_bin.shape[0], mapa_expandido_bin.shape[1]\n",
    "\n",
    "src_cols_bin = np.linspace(0, cols_bin, maior_tamanho)\n",
    "src_rows_bin = np.linspace(0, rows_bin, 3)\n",
    "src_cols_bin, src_rows_bin = np.meshgrid(src_cols_bin,src_rows_bin)\n",
    "src_bin = np.dstack([src_cols_bin.flat, src_rows_bin.flat])[0]\n",
    "\n",
    "\n",
    "img_proper_bin, img_out_bin, new_src_bin, new_dst_bin, tform_out_bin, _, _ = backgen.transform_v2(src_bin, dst_array_np, mapa_expandido_bin)\n",
    "backgen.plot(img_proper_bin, img_out_bin, new_src_bin, new_dst_bin, vmax=1)"
   ]
  },
  {
   "attachments": {},
   "cell_type": "markdown",
   "metadata": {},
   "source": [
    "### Plotando os pontos alterados e aumentados"
   ]
  },
  {
   "cell_type": "code",
   "execution_count": null,
   "metadata": {},
   "outputs": [],
   "source": [
    "pontos_x = new_dst[:,0]\n",
    "pontos_y = new_dst[:,1]\n",
    "backgen.plotar_pontos(pontos_x, pontos_y, 'New DST')"
   ]
  },
  {
   "attachments": {},
   "cell_type": "markdown",
   "metadata": {},
   "source": [
    "### Exibindo o mapa original e os modificados"
   ]
  },
  {
   "cell_type": "code",
   "execution_count": null,
   "metadata": {},
   "outputs": [],
   "source": [
    "plt.figure(figsize=[10, 8])\n",
    "plt.title(\"img_out\")\n",
    "plt.imshow(img_out, 'gray', vmin=0, vmax=60)\n",
    "plt.plot()\n",
    "\n",
    "plt.figure(figsize=[10, 8])\n",
    "plt.title(\"Mapa original expandido\")\n",
    "plt.imshow(mapa_expandido_original, 'gray', vmin=0, vmax=60)\n",
    "plt.plot()\n",
    "\n",
    "plt.figure(figsize=[10, 8])\n",
    "plt.title(\"img_out_bin\")\n",
    "plt.imshow(img_out_bin, 'gray', vmin=0, vmax=1)\n",
    "plt.plot()\n",
    "\n",
    "plt.figure(figsize=[10, 8])\n",
    "plt.title(\"mask_map_sq\")\n",
    "plt.imshow(mask_map_sq, 'gray', vmin=0, vmax=1)\n",
    "plt.plot()"
   ]
  },
  {
   "attachments": {},
   "cell_type": "markdown",
   "metadata": {},
   "source": [
    "### Retirar chifres"
   ]
  },
  {
   "cell_type": "code",
   "execution_count": null,
   "metadata": {},
   "outputs": [],
   "source": [
    "img_out_sq = img_out.squeeze()\n",
    "\n",
    "mapa_sem_artefatos = np.zeros(img_out_sq.shape)\n",
    "\n",
    "for i in range(mapa_sem_artefatos.shape[0]):\n",
    "    for j in range(mapa_sem_artefatos.shape[1]):\n",
    "        if mask_map_sq[i, j] == True:  # Verifica se o pixel é branco na imagem booleana\n",
    "            # Inserindo o pixel quando a máscara tem True\n",
    "            mapa_sem_artefatos[i, j] = img_out_sq[i,j]\n",
    "\n",
    "plt.figure(figsize=[10, 8])\n",
    "plt.title(\"mapa_sem_artefatos\")\n",
    "plt.imshow(mapa_sem_artefatos, 'gray', vmin=0, vmax=60)\n",
    "plt.plot()\n"
   ]
  },
  {
   "cell_type": "code",
   "execution_count": null,
   "metadata": {},
   "outputs": [],
   "source": [
    "# img_out_bin_sq = img_out_bin.squeeze()\n",
    "\n",
    "vaso_sem_artefatos = np.zeros(img_out_sq.shape)\n",
    "\n",
    "for i in range(vaso_sem_artefatos.shape[0]):\n",
    "    for j in range(vaso_sem_artefatos.shape[1]):\n",
    "        if mask_vessel_sq[i, j] == True:  # Verifica se o pixel é branco na imagem booleana\n",
    "            # Inserindo o pixel quando a máscara tem True\n",
    "            vaso_sem_artefatos[i, j] = img_out_bin[i,j]\n",
    "\n",
    "plt.figure(figsize=[10, 8])\n",
    "plt.title(\"vaso_sem_artefatos\")\n",
    "plt.imshow(vaso_sem_artefatos, 'gray', vmin=0, vmax=1)\n",
    "plt.plot()"
   ]
  },
  {
   "attachments": {},
   "cell_type": "markdown",
   "metadata": {},
   "source": [
    "### Inserindo o mapa em um background criado artificialmente"
   ]
  },
  {
   "cell_type": "code",
   "execution_count": null,
   "metadata": {},
   "outputs": [],
   "source": [
    "\n",
    "back_artif = np.array(Image.open(root_dir + f'/Background/Mapas_gerados_artificialmente/{imag}.tiff'))\n",
    "\n",
    "img_out_sq = img_out.squeeze()\n",
    "#img_out_transf_sq = img_out_transf_bin.squeeze()\n",
    "\n",
    "#Mergear\n",
    "#fundo = backgen.estimate_background(img, label)\n",
    "\n",
    "# img_out_sq = mapa transformado\n",
    "# img_out_bin_sq = vaso binário transformado\n",
    "# img_out_transf_bin_sq = mapa binário transformado\n",
    "\n",
    "#img_out_bin_sq = img_out_bin.squeeze()\n",
    "\n",
    "point = (50,50)\n",
    "limiar = 30\n",
    "background = back_artif\n",
    "img_merged = backgen.inserindo_vaso_fundo2(mapa_sem_artefatos,vaso_sem_artefatos,background,point,limiar)\n",
    "\n",
    "plt.figure(figsize=[20, 8])\n",
    "plt.subplot(1,2,1)\n",
    "plt.title(\"fundo com vaso\")\n",
    "plt.imshow(img_merged, 'gray', vmin=0, vmax=60)\n",
    "\n",
    "plt.subplot(1,2,2)\n",
    "plt.title(\"mapa_sem_artefatos\")\n",
    "plt.imshow(mapa_sem_artefatos, 'gray', vmin=0, vmax=60)\n",
    "\n"
   ]
  },
  {
   "attachments": {},
   "cell_type": "markdown",
   "metadata": {},
   "source": [
    "### Exibindo os triângulos de Delaunay"
   ]
  },
  {
   "cell_type": "code",
   "execution_count": null,
   "metadata": {},
   "outputs": [],
   "source": [
    "from skimage.transform import PiecewiseAffineTransform, warp\n",
    "#img_proper_transf_bin, img_out_transf_bin, new_src_transf_bin, new_dst_transf_bin, tform_transf_bin\n",
    "\n",
    "tri = tform_transf_bin._tesselation \n",
    "tri_inv = tform_transf_bin._inverse_tesselation \n",
    "backgen.delaunay_plot(img_proper_transf_bin, img_out_transf_bin, tri, tri_inv)"
   ]
  }
 ],
 "metadata": {
  "kernelspec": {
   "display_name": "venv",
   "language": "python",
   "name": "python3"
  },
  "language_info": {
   "codemirror_mode": {
    "name": "ipython",
    "version": 3
   },
   "file_extension": ".py",
   "mimetype": "text/x-python",
   "name": "python",
   "nbconvert_exporter": "python",
   "pygments_lexer": "ipython3",
   "version": "3.9.13"
  },
  "orig_nbformat": 4
 },
 "nbformat": 4,
 "nbformat_minor": 2
}

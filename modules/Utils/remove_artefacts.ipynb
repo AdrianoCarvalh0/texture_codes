{
 "cells": [
  {
   "cell_type": "code",
   "execution_count": 1,
   "metadata": {},
   "outputs": [
    {
     "name": "stdout",
     "output_type": "stream",
     "text": [
      "['01_mask.gif', '02_mask.gif', '03_mask.gif', '04_mask.gif', '05_mask.gif', '06_mask.gif', '07_mask.gif', '08_mask.gif', '09_mask.gif', '10_mask.gif', '11_mask.gif', '12_mask.gif', '13_mask.gif', '14_mask.gif', '15_mask.gif', '16_mask.gif', '17_mask.gif', '18_mask.gif', '19_mask.gif', '20_mask.gif', '21_mask.gif', '22_mask.gif', '23_mask.gif', '24_mask.gif', '25_mask.gif', '26_mask.gif', '27_mask.gif', '28_mask.gif', '29_mask.gif', '30_mask.gif', '31_mask.gif', '32_mask.gif', '33_mask.gif', '34_mask.gif', '35_mask.gif', '36_mask.gif', '37_mask.gif', '38_mask.gif', '39_mask.gif', '40_mask.gif']\n"
     ]
    },
    {
     "ename": "ValueError",
     "evalue": "img e mask_map devem ter as mesmas dimensões",
     "output_type": "error",
     "traceback": [
      "\u001b[1;31m---------------------------------------------------------------------------\u001b[0m",
      "\u001b[1;31mValueError\u001b[0m                                Traceback (most recent call last)",
      "Cell \u001b[1;32mIn[1], line 36\u001b[0m\n\u001b[0;32m     33\u001b[0m mask \u001b[38;5;241m=\u001b[39m np\u001b[38;5;241m.\u001b[39marray(Image\u001b[38;5;241m.\u001b[39mopen(\u001b[38;5;124mf\u001b[39m\u001b[38;5;124m'\u001b[39m\u001b[38;5;132;01m{\u001b[39;00mimg_mask\u001b[38;5;132;01m}\u001b[39;00m\u001b[38;5;124m/\u001b[39m\u001b[38;5;132;01m{\u001b[39;00mmask_vector[i]\u001b[38;5;132;01m}\u001b[39;00m\u001b[38;5;124m'\u001b[39m))\n\u001b[0;32m     34\u001b[0m mask \u001b[38;5;241m=\u001b[39m np\u001b[38;5;241m.\u001b[39marray(Image\u001b[38;5;241m.\u001b[39mopen(\u001b[38;5;124m'\u001b[39m\u001b[38;5;124mresult.png\u001b[39m\u001b[38;5;124m'\u001b[39m))\n\u001b[1;32m---> 36\u001b[0m cut \u001b[38;5;241m=\u001b[39m \u001b[43mbackgen\u001b[49m\u001b[38;5;241;43m.\u001b[39;49m\u001b[43mremove_artifacts2\u001b[49m\u001b[43m(\u001b[49m\u001b[43mimg\u001b[49m\u001b[43m,\u001b[49m\u001b[43mmask\u001b[49m\u001b[43m)\u001b[49m\n\u001b[0;32m     38\u001b[0m \u001b[38;5;66;03m# Converting to Pillow Image\u001b[39;00m\n\u001b[0;32m     39\u001b[0m cutout \u001b[38;5;241m=\u001b[39m Image\u001b[38;5;241m.\u001b[39mfromarray(cut)\n",
      "File \u001b[1;32m~\\Documents\\Mestrado\\texture_codes\\modules\\Background\\background_generation.py:566\u001b[0m, in \u001b[0;36mremove_artifacts2\u001b[1;34m(img, mask_map)\u001b[0m\n\u001b[0;32m    564\u001b[0m \u001b[38;5;66;03m# Verifique se as dimensões das entradas são compatíveis\u001b[39;00m\n\u001b[0;32m    565\u001b[0m \u001b[38;5;28;01mif\u001b[39;00m img\u001b[38;5;241m.\u001b[39mshape \u001b[38;5;241m!=\u001b[39m mask_map\u001b[38;5;241m.\u001b[39mshape:\n\u001b[1;32m--> 566\u001b[0m     \u001b[38;5;28;01mraise\u001b[39;00m \u001b[38;5;167;01mValueError\u001b[39;00m(\u001b[38;5;124m\"\u001b[39m\u001b[38;5;124mimg e mask_map devem ter as mesmas dimensões\u001b[39m\u001b[38;5;124m\"\u001b[39m)\n\u001b[0;32m    568\u001b[0m \u001b[38;5;66;03m# Garantir que a máscara seja booleana\u001b[39;00m\n\u001b[0;32m    569\u001b[0m mask_map \u001b[38;5;241m=\u001b[39m mask_map\u001b[38;5;241m.\u001b[39mastype(\u001b[38;5;28mbool\u001b[39m)\n",
      "\u001b[1;31mValueError\u001b[0m: img e mask_map devem ter as mesmas dimensões"
     ]
    }
   ],
   "source": [
    "import pickle, os\n",
    "import numpy as np\n",
    "import sys\n",
    "import skimage as ski\n",
    "from pathlib import Path\n",
    "from PIL import Image\n",
    "from matplotlib import pyplot as plt\n",
    "import geopandas as gpd\n",
    "\n",
    "# Linux  \n",
    "#root_dir = f\"/home/adriano/projeto_mestrado/modules\"\n",
    "#sys.path.insert(0, \"/home/adriano/projeto_mestrado/modules\")\n",
    "\n",
    "# Windows  \n",
    "root_dir = Path(r\"C:\\Users\\adria\\Documents\\Mestrado\\texture_codes\\modules\")\n",
    "sys.path.insert(0, r\"C:\\Users\\adria\\Documents\\Mestrado\\texture_codes\\modules\")\n",
    "\n",
    "from Background import background_generation as backgen\n",
    "import functions\n",
    "\n",
    "img_dir = f'{root_dir}/Images/retina/images/'\n",
    "img_mask = f'{root_dir}/Images/retina/mask/'\n",
    "\n",
    "images_vector = functions.read_directories(img_dir)\n",
    "mask_vector = functions.read_directories(img_mask)\n",
    "\n",
    "print(mask_vector)\n",
    "\n",
    "#for i in range(len(images_vector)):\n",
    "for i in range(1):\n",
    "\n",
    "    img = np.array(Image.open(f'{img_dir}/{images_vector[i]}'))\n",
    "    mask = np.array(Image.open(f'{img_mask}/{mask_vector[i]}'))\n",
    "    mask = np.array(Image.open('result.png'))\n",
    "    \n",
    "    cut = backgen.remove_artifacts2(img,mask)\n",
    "\n",
    "    # Converting to Pillow Image\n",
    "    cutout = Image.fromarray(cut)\n",
    "\n",
    "    plt.figure(figsize=[10, 10])\n",
    "    plt.imshow(cut, 'gray',vmin=0, vmax=255)\n",
    "    plt.axis('off')\n",
    "    cutout.save('teste.png')\n",
    "    plt.show()\n",
    "\n",
    "    \n"
   ]
  }
 ],
 "metadata": {
  "kernelspec": {
   "display_name": "Python 3",
   "language": "python",
   "name": "python3"
  },
  "language_info": {
   "codemirror_mode": {
    "name": "ipython",
    "version": 3
   },
   "file_extension": ".py",
   "mimetype": "text/x-python",
   "name": "python",
   "nbconvert_exporter": "python",
   "pygments_lexer": "ipython3",
   "version": "3.12.0"
  }
 },
 "nbformat": 4,
 "nbformat_minor": 2
}

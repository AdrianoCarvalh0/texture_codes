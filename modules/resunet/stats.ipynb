{
 "cells": [
  {
   "cell_type": "code",
   "execution_count": 1,
   "metadata": {},
   "outputs": [],
   "source": [
    "%load_ext autoreload\n",
    "%autoreload 2"
   ]
  },
  {
   "cell_type": "code",
   "execution_count": 2,
   "metadata": {},
   "outputs": [],
   "source": [
    "import os\n",
    "import numpy as np\n",
    "from pathlib import Path\n",
    "from artificial_dataset import create_datasets\n",
    "from PIL import Image"
   ]
  },
  {
   "cell_type": "code",
   "execution_count": 2,
   "metadata": {},
   "outputs": [],
   "source": [
    "label_dir = './data/original_labels'\n",
    "# label_art_dir = './data/artificial_labels_pack1'\n",
    "label_art_dir = '../texture_codes/modules/Training_validation/Artificial_Images/Generated_from_10_maps/'"
   ]
  },
  {
   "cell_type": "code",
   "execution_count": 3,
   "metadata": {},
   "outputs": [
    {
     "name": "stdout",
     "output_type": "stream",
     "text": [
      "Original data\n",
      "Background: 0.7130250858400742, Foreground: 0.2869749141599259\n"
     ]
    }
   ],
   "source": [
    "count_foreground = 0\n",
    "total_pixels = 0\n",
    "for fname in os.listdir(label_dir):\n",
    "    img = np.asarray(Image.open((f'./{label_dir}/{fname}')))\n",
    "    count_foreground += np.count_nonzero(img)\n",
    "    total_pixels += img.shape[0]*img.shape[1]\n",
    "\n",
    "pct_foreground = count_foreground/total_pixels\n",
    "print('Original data')\n",
    "print(f'Background: {1-pct_foreground}, Foreground: {pct_foreground}')"
   ]
  },
  {
   "cell_type": "code",
   "execution_count": 18,
   "metadata": {},
   "outputs": [
    {
     "name": "stdout",
     "output_type": "stream",
     "text": [
      "Artificial labels (1 map), pack1\n",
      "Background: 0.8019585821642231, Foreground: 0.1980414178357769\n"
     ]
    }
   ],
   "source": [
    "count_foreground = 0\n",
    "total_pixels = 0\n",
    "for fname in os.listdir(label_art_dir):\n",
    "    img = np.asarray(Image.open((f'./{label_art_dir}/{fname}')))\n",
    "    count_foreground += np.count_nonzero(img)\n",
    "    total_pixels += img.shape[0]*img.shape[1]\n",
    "\n",
    "pct_foreground = count_foreground/total_pixels\n",
    "print('Artificial labels (1 map), pack1')\n",
    "print(f'Background: {1-pct_foreground}, Foreground: {pct_foreground}')"
   ]
  },
  {
   "cell_type": "code",
   "execution_count": 7,
   "metadata": {},
   "outputs": [
    {
     "name": "stdout",
     "output_type": "stream",
     "text": [
      "Artificial labels (10 maps)\n",
      "Background: 0.8299142455026121, Foreground: 0.17008575449738794\n"
     ]
    }
   ],
   "source": [
    "label_art_dir = './data/Generated_from_10_maps/labels'\n",
    "count_foreground = 0\n",
    "total_pixels = 0\n",
    "for fname in os.listdir(label_art_dir):\n",
    "    img = np.asarray(Image.open((f'./{label_art_dir}/{fname}')))\n",
    "    count_foreground += np.count_nonzero(img)\n",
    "    total_pixels += img.shape[0]*img.shape[1]\n",
    "\n",
    "pct_foreground = count_foreground/total_pixels\n",
    "print('Artificial labels (10 maps)')\n",
    "print(f'Background: {1-pct_foreground}, Foreground: {pct_foreground}')"
   ]
  },
  {
   "cell_type": "code",
   "execution_count": 20,
   "metadata": {},
   "outputs": [
    {
     "name": "stdout",
     "output_type": "stream",
     "text": [
      "Artificial labels (5 maps)\n",
      "Background: 0.8557171266746714, Foreground: 0.1442828733253286\n"
     ]
    }
   ],
   "source": [
    "label_art_dir = './data/artificial_labels_5/'\n",
    "count_foreground = 0\n",
    "total_pixels = 0\n",
    "for fname in os.listdir(label_art_dir):\n",
    "    img = np.asarray(Image.open((f'./{label_art_dir}/{fname}')))\n",
    "    count_foreground += np.count_nonzero(img)\n",
    "    total_pixels += img.shape[0]*img.shape[1]\n",
    "\n",
    "pct_foreground = count_foreground/total_pixels\n",
    "print('Artificial labels (5 maps)')\n",
    "print(f'Background: {1-pct_foreground}, Foreground: {pct_foreground}')"
   ]
  },
  {
   "cell_type": "code",
   "execution_count": 21,
   "metadata": {},
   "outputs": [
    {
     "name": "stdout",
     "output_type": "stream",
     "text": [
      "Artificial labels (160 maps)\n",
      "Background: 0.8403997817134311, Foreground: 0.15960021828656892\n"
     ]
    }
   ],
   "source": [
    "label_art_dir = './data/artificial_labels_160/'\n",
    "count_foreground = 0\n",
    "total_pixels = 0\n",
    "for fname in os.listdir(label_art_dir):\n",
    "    img = np.asarray(Image.open((f'./{label_art_dir}/{fname}')))\n",
    "    count_foreground += np.count_nonzero(img)\n",
    "    total_pixels += img.shape[0]*img.shape[1]\n",
    "\n",
    "pct_foreground = count_foreground/total_pixels\n",
    "print('Artificial labels (160 maps)')\n",
    "print(f'Background: {1-pct_foreground}, Foreground: {pct_foreground}')"
   ]
  },
  {
   "cell_type": "code",
   "execution_count": null,
   "metadata": {},
   "outputs": [],
   "source": []
  }
 ],
 "metadata": {
  "kernelspec": {
   "display_name": "p3.11",
   "language": "python",
   "name": "python3"
  },
  "language_info": {
   "codemirror_mode": {
    "name": "ipython",
    "version": 3
   },
   "file_extension": ".py",
   "mimetype": "text/x-python",
   "name": "python",
   "nbconvert_exporter": "python",
   "pygments_lexer": "ipython3",
   "version": "3.11.0"
  }
 },
 "nbformat": 4,
 "nbformat_minor": 2
}
